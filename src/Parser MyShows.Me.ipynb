{
 "cells": [
  {
   "cell_type": "code",
   "execution_count": 1,
   "metadata": {},
   "outputs": [],
   "source": [
    "import numpy as np\n",
    "import requests\n",
    "from selenium import webdriver\n",
    "import re\n",
    "import math\n",
    "from bs4 import BeautifulSoup"
   ]
  },
  {
   "cell_type": "code",
   "execution_count": 2,
   "metadata": {},
   "outputs": [],
   "source": [
    "def get_soup_by_url(url):\n",
    "    html = requests.get(url).text.strip()\n",
    "    return BeautifulSoup(html, 'html.parser')"
   ]
  },
  {
   "cell_type": "code",
   "execution_count": 3,
   "metadata": {},
   "outputs": [],
   "source": [
    "def only_digits(s):\n",
    "    return ''.join(c for c in s if c.isdigit())"
   ]
  },
  {
   "cell_type": "markdown",
   "metadata": {},
   "source": [
    "### Users parsing"
   ]
  },
  {
   "cell_type": "code",
   "execution_count": 4,
   "metadata": {},
   "outputs": [],
   "source": [
    "import csv"
   ]
  },
  {
   "cell_type": "code",
   "execution_count": 5,
   "metadata": {},
   "outputs": [],
   "source": [
    "USERS_TABLE = \"users.csv\"\n",
    "FILMS_TABLE = \"films.csv\""
   ]
  },
  {
   "cell_type": "code",
   "execution_count": 12,
   "metadata": {},
   "outputs": [],
   "source": [
    "class FilmsParser:\n",
    "    uhead = [\"id\",\"username\",\"episodes\",\"hours\",\"days\"]\n",
    "    fhead = [\"fid\",\"uid\",\"mark\",\"stat\",\"views\"]\n",
    "    \n",
    "    def __init__(self, users, films, mode=\"r+\"):\n",
    "        self.ufile = open(users,mode)\n",
    "        self.ffile = open(films,mode)\n",
    "        \n",
    "        self.users = set()\n",
    "        ureader = csv.DictReader(self.ufile, fieldnames=self.uhead)\n",
    "        for row in ureader:\n",
    "            self.users.add(row[\"username\"])\n",
    "        \n",
    "        self.uid = len(self.users)\n",
    "        self.uwriter = csv.DictWriter(self.ufile, fieldnames=self.uhead)\n",
    "        self.fwriter = csv.DictWriter(self.ffile, fieldnames=self.fhead)\n",
    "        \n",
    "        print(\"Readed %d uniq users\" % self.uid)\n",
    "    \n",
    "    def __del__(self):\n",
    "        self.ufile.close()\n",
    "        self.ffile.close()\n",
    "        \n",
    "    def addUser(self, username, episodes, hours, days):\n",
    "        self.users.add(username)\n",
    "        self.uwriter.writerow(dict(zip(self.uhead, (self.uid,username,episodes,hours,days))))\n",
    "        self.uid = self.uid + 1\n",
    "        \n",
    "    def addFilm(self, fid, uid, mark, stat, views):\n",
    "        self.fwriter.writerow(dict(zip(self.fhead, (fid,uid,mark,stat,views))))\n",
    "        \n",
    "    def parseUserMarks(self, username, link):\n",
    "        if username in self.users: return\n",
    "        \n",
    "        soup = get_soup_by_url(link)\n",
    "        stats = soup.select(\".statusBlock div\")\n",
    "        if stats is None or len(stats) < 3: \n",
    "            #Private profile\n",
    "            self.addUser(username, -1, -1, -1)\n",
    "            return\n",
    "        \n",
    "        episodes, hours, days = (int(only_digits(stat.get_text())) \\\n",
    "                                 for stat in soup.select(\".statusBlock div\")[:3])\n",
    "        \n",
    "        uid = self.uid\n",
    "        self.addUser(username, episodes, hours, days)\n",
    "        \n",
    "        for stat,table in enumerate(soup.select(\".tabs_cont\")):\n",
    "            for row in table.findAll(\"tr\"):\n",
    "                cells = row.findAll(\"td\")\n",
    "                if len(cells) != 3: continue # Expand button row\n",
    "                fid = int(cells[0].find(\"a\").attrs['href'].split('/')[-2])\n",
    "                stars = int(only_digits(cells[1].find('span').attrs['class'][1]))\n",
    "                views = int(cells[2].select(\"._done\")[0].string)\n",
    "                \n",
    "                self.addFilm(fid,uid,stars,stat,views)\n",
    "                \n",
    "        print(\"Added %s, Users now: %d\" % (username, self.uid))\n",
    "        \n",
    "    def parseUsers(self, link):\n",
    "        soup = get_soup_by_url(link)\n",
    "        users = soup.select(\"main .col4\")\n",
    "        for user in users:\n",
    "            link = user.find('a').attrs['href']\n",
    "            username = user.select('.userBlockName')[0].string\n",
    "            print(username,link)\n",
    "            self.parseUserMarks(username, link)\n",
    "        return users is not None and len(users) > 0\n",
    "    "
   ]
  },
  {
   "cell_type": "markdown",
   "metadata": {},
   "source": [
    "```python\n",
    "mode=\"w+\" - создаёт чистый файл\n",
    "mode=\"r+\" - открывает если есть\n",
    "```"
   ]
  },
  {
   "cell_type": "code",
   "execution_count": 7,
   "metadata": {},
   "outputs": [
    {
     "name": "stdout",
     "output_type": "stream",
     "text": [
      "Readed 56 uniq users\n",
      "tatabsu https://myshows.me/tatabsu\n",
      "iwafy https://myshows.me/iwafy\n",
      "Added iwafy, Users now: 57\n",
      "dotraw https://myshows.me/dotraw\n",
      "Added dotraw, Users now: 58\n",
      "waker https://myshows.me/waker\n",
      "Added waker, Users now: 59\n",
      "nara_takero https://myshows.me/nara_takero\n",
      "Added nara_takero, Users now: 60\n",
      "DaryaRifma https://myshows.me/DaryaRifma\n",
      "mega755 https://myshows.me/mega755\n",
      "Added mega755, Users now: 61\n",
      "BonnieBoyle https://myshows.me/BonnieBoyle\n",
      "Added BonnieBoyle, Users now: 62\n",
      "ladabelova https://myshows.me/ladabelova\n",
      "Daedalus https://myshows.me/Daedalus\n",
      "Added Daedalus, Users now: 63\n",
      "twee_ballen https://myshows.me/twee_ballen\n",
      "Added twee_ballen, Users now: 64\n",
      "Daneeka https://myshows.me/Daneeka\n",
      "Added Daneeka, Users now: 65\n",
      "id66950277 https://myshows.me/id66950277\n",
      "Added id66950277, Users now: 66\n",
      "FRFD https://myshows.me/FRFD\n",
      "ALBERTv https://myshows.me/ALBERTv\n",
      "Added ALBERTv, Users now: 67\n",
      "armitaj https://myshows.me/armitaj\n",
      "Added armitaj, Users now: 68\n",
      "8orodina https://myshows.me/8orodina\n",
      "hentgen https://myshows.me/hentgen\n",
      "Added hentgen, Users now: 69\n",
      "lel_lol https://myshows.me/lel_lol\n",
      "Added lel_lol, Users now: 70\n",
      "topdog https://myshows.me/topdog\n",
      "Added topdog, Users now: 71\n",
      "oliverwilde https://myshows.me/oliverwilde\n",
      "Added oliverwilde, Users now: 72\n",
      "VeronicaLova https://myshows.me/VeronicaLova\n",
      "Added VeronicaLova, Users now: 73\n",
      "Meding https://myshows.me/Meding\n",
      "heydestruction_ https://myshows.me/heydestruction_\n",
      "Added heydestruction_, Users now: 74\n",
      "VitaliyaAngel https://myshows.me/VitaliyaAngel\n",
      "Added VitaliyaAngel, Users now: 75\n",
      "Trolljegeren https://myshows.me/Trolljegeren\n",
      "Added Trolljegeren, Users now: 76\n",
      "FredMcMillan https://myshows.me/FredMcMillan\n",
      "Added FredMcMillan, Users now: 77\n",
      "Астарта https://myshows.me/Астарта\n",
      "Added Астарта, Users now: 78\n",
      "kliaksa https://myshows.me/kliaksa\n",
      "S1S13AF7 https://myshows.me/S1S13AF7\n",
      "Added S1S13AF7, Users now: 79\n"
     ]
    }
   ],
   "source": [
    "fp = FilmsParser(USERS_TABLE,FILMS_TABLE,mode=\"r+\")\n",
    "fp.parseUsers(\"https://myshows.me/community/users/\")\n",
    "del fp"
   ]
  },
  {
   "cell_type": "code",
   "execution_count": 8,
   "metadata": {},
   "outputs": [],
   "source": [
    "import pandas as pd"
   ]
  },
  {
   "cell_type": "code",
   "execution_count": 9,
   "metadata": {},
   "outputs": [],
   "source": [
    "udf = pd.read_csv(USERS_TABLE, names=FilmsParser.uhead, index_col=0)\n",
    "fdf = pd.read_csv(FILMS_TABLE, names=FilmsParser.fhead)"
   ]
  },
  {
   "cell_type": "code",
   "execution_count": 10,
   "metadata": {},
   "outputs": [
    {
     "data": {
      "text/html": [
       "<div>\n",
       "<style scoped>\n",
       "    .dataframe tbody tr th:only-of-type {\n",
       "        vertical-align: middle;\n",
       "    }\n",
       "\n",
       "    .dataframe tbody tr th {\n",
       "        vertical-align: top;\n",
       "    }\n",
       "\n",
       "    .dataframe thead th {\n",
       "        text-align: right;\n",
       "    }\n",
       "</style>\n",
       "<table border=\"1\" class=\"dataframe\">\n",
       "  <thead>\n",
       "    <tr style=\"text-align: right;\">\n",
       "      <th></th>\n",
       "      <th>username</th>\n",
       "      <th>episodes</th>\n",
       "      <th>hours</th>\n",
       "      <th>days</th>\n",
       "    </tr>\n",
       "    <tr>\n",
       "      <th>id</th>\n",
       "      <th></th>\n",
       "      <th></th>\n",
       "      <th></th>\n",
       "      <th></th>\n",
       "    </tr>\n",
       "  </thead>\n",
       "  <tbody>\n",
       "    <tr>\n",
       "      <th>0</th>\n",
       "      <td>tatabsu</td>\n",
       "      <td>13751</td>\n",
       "      <td>10075</td>\n",
       "      <td>420</td>\n",
       "    </tr>\n",
       "    <tr>\n",
       "      <th>1</th>\n",
       "      <td>Viktoria777</td>\n",
       "      <td>2875</td>\n",
       "      <td>2535</td>\n",
       "      <td>106</td>\n",
       "    </tr>\n",
       "    <tr>\n",
       "      <th>2</th>\n",
       "      <td>Панда_Panda</td>\n",
       "      <td>7759</td>\n",
       "      <td>4973</td>\n",
       "      <td>207</td>\n",
       "    </tr>\n",
       "    <tr>\n",
       "      <th>3</th>\n",
       "      <td>KseniaMimi</td>\n",
       "      <td>10818</td>\n",
       "      <td>5462</td>\n",
       "      <td>228</td>\n",
       "    </tr>\n",
       "    <tr>\n",
       "      <th>4</th>\n",
       "      <td>leXzZz</td>\n",
       "      <td>11622</td>\n",
       "      <td>7456</td>\n",
       "      <td>311</td>\n",
       "    </tr>\n",
       "  </tbody>\n",
       "</table>\n",
       "</div>"
      ],
      "text/plain": [
       "       username  episodes  hours  days\n",
       "id                                    \n",
       "0       tatabsu     13751  10075   420\n",
       "1   Viktoria777      2875   2535   106\n",
       "2   Панда_Panda      7759   4973   207\n",
       "3    KseniaMimi     10818   5462   228\n",
       "4        leXzZz     11622   7456   311"
      ]
     },
     "execution_count": 10,
     "metadata": {},
     "output_type": "execute_result"
    }
   ],
   "source": [
    "udf.head()"
   ]
  },
  {
   "cell_type": "code",
   "execution_count": 11,
   "metadata": {},
   "outputs": [
    {
     "data": {
      "text/html": [
       "<div>\n",
       "<style scoped>\n",
       "    .dataframe tbody tr th:only-of-type {\n",
       "        vertical-align: middle;\n",
       "    }\n",
       "\n",
       "    .dataframe tbody tr th {\n",
       "        vertical-align: top;\n",
       "    }\n",
       "\n",
       "    .dataframe thead th {\n",
       "        text-align: right;\n",
       "    }\n",
       "</style>\n",
       "<table border=\"1\" class=\"dataframe\">\n",
       "  <thead>\n",
       "    <tr style=\"text-align: right;\">\n",
       "      <th></th>\n",
       "      <th>fid</th>\n",
       "      <th>uid</th>\n",
       "      <th>mark</th>\n",
       "      <th>stat</th>\n",
       "      <th>views</th>\n",
       "    </tr>\n",
       "  </thead>\n",
       "  <tbody>\n",
       "    <tr>\n",
       "      <th>6695</th>\n",
       "      <td>55513.0</td>\n",
       "      <td>29</td>\n",
       "      <td>0</td>\n",
       "      <td>3</td>\n",
       "      <td>10.0</td>\n",
       "    </tr>\n",
       "    <tr>\n",
       "      <th>6696</th>\n",
       "      <td>635.0</td>\n",
       "      <td>29</td>\n",
       "      <td>0</td>\n",
       "      <td>3</td>\n",
       "      <td>22.0</td>\n",
       "    </tr>\n",
       "    <tr>\n",
       "      <th>6697</th>\n",
       "      <td>53268.0</td>\n",
       "      <td>29</td>\n",
       "      <td>0</td>\n",
       "      <td>3</td>\n",
       "      <td>15.0</td>\n",
       "    </tr>\n",
       "    <tr>\n",
       "      <th>6698</th>\n",
       "      <td>49400.0</td>\n",
       "      <td>29</td>\n",
       "      <td>0</td>\n",
       "      <td>3</td>\n",
       "      <td>22.0</td>\n",
       "    </tr>\n",
       "    <tr>\n",
       "      <th>6699</th>\n",
       "      <td>50805.0</td>\n",
       "      <td>29</td>\n",
       "      <td>0</td>\n",
       "      <td>3</td>\n",
       "      <td>10.0</td>\n",
       "    </tr>\n",
       "  </tbody>\n",
       "</table>\n",
       "</div>"
      ],
      "text/plain": [
       "          fid  uid  mark  stat  views\n",
       "6695  55513.0   29     0     3   10.0\n",
       "6696    635.0   29     0     3   22.0\n",
       "6697  53268.0   29     0     3   15.0\n",
       "6698  49400.0   29     0     3   22.0\n",
       "6699  50805.0   29     0     3   10.0"
      ]
     },
     "execution_count": 11,
     "metadata": {},
     "output_type": "execute_result"
    }
   ],
   "source": [
    "fdf.tail()"
   ]
  },
  {
   "cell_type": "markdown",
   "metadata": {},
   "source": [
    "### Добавьте параллельность и всё такое"
   ]
  },
  {
   "cell_type": "code",
   "execution_count": 13,
   "metadata": {},
   "outputs": [
    {
     "name": "stdout",
     "output_type": "stream",
     "text": [
      "Readed 79 uniq users\n",
      "aymani2013 https://myshows.me/aymani2013\n",
      "Added aymani2013, Users now: 80\n",
      "Legenda https://myshows.me/Legenda\n",
      "Added Legenda, Users now: 81\n",
      "Unbeautiful https://myshows.me/Unbeautiful\n",
      "Added Unbeautiful, Users now: 82\n",
      "marwik https://myshows.me/marwik\n",
      "Added marwik, Users now: 83\n",
      "vk312168 https://myshows.me/vk312168\n",
      "Added vk312168, Users now: 84\n",
      "бритт https://myshows.me/бритт\n",
      "Added бритт, Users now: 85\n",
      "rhymer144 https://myshows.me/rhymer144\n",
      "Added rhymer144, Users now: 86\n",
      "shurfiada https://myshows.me/shurfiada\n",
      "Added shurfiada, Users now: 87\n",
      "manjasha https://myshows.me/manjasha\n",
      "Added manjasha, Users now: 88\n",
      "andjoe23 https://myshows.me/andjoe23\n",
      "Lunatic3k https://myshows.me/Lunatic3k\n",
      "Added Lunatic3k, Users now: 89\n",
      "vk719181 https://myshows.me/vk719181\n",
      "Added vk719181, Users now: 90\n",
      "Kristen_Lauren https://myshows.me/Kristen_Lauren\n",
      "Added Kristen_Lauren, Users now: 91\n",
      "Midi https://myshows.me/Midi\n",
      "flegmali https://myshows.me/flegmali\n",
      "Added flegmali, Users now: 92\n",
      "АндрейСноу https://myshows.me/АндрейСноу\n",
      "Added АндрейСноу, Users now: 93\n",
      "Tratata87 https://myshows.me/Tratata87\n",
      "Added Tratata87, Users now: 94\n",
      "kulikvictor https://myshows.me/kulikvictor\n",
      "Added kulikvictor, Users now: 95\n",
      "EmilD https://myshows.me/EmilD\n",
      "arbartur https://myshows.me/arbartur\n",
      "Added arbartur, Users now: 96\n",
      "HighlyLikely https://myshows.me/HighlyLikely\n",
      "Added HighlyLikely, Users now: 97\n",
      "yuzvir https://myshows.me/yuzvir\n",
      "Added yuzvir, Users now: 98\n",
      "SeanaBean https://myshows.me/SeanaBean\n",
      "Added SeanaBean, Users now: 99\n",
      "id150240209 https://myshows.me/id150240209\n",
      "Added id150240209, Users now: 100\n",
      "Meding https://myshows.me/Meding\n",
      "spaceimmo https://myshows.me/spaceimmo\n",
      "Added spaceimmo, Users now: 101\n",
      "Dead_Maniac https://myshows.me/Dead_Maniac\n",
      "lel_lol https://myshows.me/lel_lol\n",
      "alexandrsozykin https://myshows.me/alexandrsozykin\n",
      "Added alexandrsozykin, Users now: 102\n",
      "Whello https://myshows.me/Whello\n",
      "Added Whello, Users now: 103\n"
     ]
    }
   ],
   "source": [
    "fp = FilmsParser(USERS_TABLE,FILMS_TABLE,mode=\"r+\")\n",
    "while fp.uid < 100:\n",
    "    fp.parseUsers(\"https://myshows.me/community/users/\")\n",
    "    #one iter adds ~30 users\n",
    "del fp"
   ]
  },
  {
   "cell_type": "markdown",
   "metadata": {},
   "source": [
    "<div align=\"right\">Alex Sobolev, 2018</div>"
   ]
  }
 ],
 "metadata": {
  "kernelspec": {
   "display_name": "Python 3",
   "language": "python",
   "name": "python3"
  },
  "language_info": {
   "codemirror_mode": {
    "name": "ipython",
    "version": 3
   },
   "file_extension": ".py",
   "mimetype": "text/x-python",
   "name": "python",
   "nbconvert_exporter": "python",
   "pygments_lexer": "ipython3",
   "version": "3.6.6"
  }
 },
 "nbformat": 4,
 "nbformat_minor": 2
}
