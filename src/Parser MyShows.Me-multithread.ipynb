{
 "cells": [
  {
   "cell_type": "code",
   "execution_count": 7,
   "metadata": {},
   "outputs": [],
   "source": [
    "import numpy as np\n",
    "import requests\n",
    "import grequests\n",
    "from selenium import webdriver\n",
    "import re\n",
    "import math\n",
    "from bs4 import BeautifulSoup"
   ]
  },
  {
   "cell_type": "code",
   "execution_count": 8,
   "metadata": {},
   "outputs": [],
   "source": [
    "def get_soup_by_url(url):\n",
    "    html = requests.get(url).text.strip()\n",
    "    return BeautifulSoup(html, 'html.parser')"
   ]
  },
  {
   "cell_type": "code",
   "execution_count": 9,
   "metadata": {},
   "outputs": [],
   "source": [
    "def only_digits(s):\n",
    "    return ''.join(c for c in s if c.isdigit())"
   ]
  },
  {
   "cell_type": "markdown",
   "metadata": {},
   "source": [
    "### Users parsing"
   ]
  },
  {
   "cell_type": "code",
   "execution_count": 10,
   "metadata": {},
   "outputs": [],
   "source": [
    "import csv"
   ]
  },
  {
   "cell_type": "code",
   "execution_count": 11,
   "metadata": {},
   "outputs": [],
   "source": [
    "USERS_TABLE = \"users.csv\"\n",
    "FILMS_TABLE = \"films.csv\""
   ]
  },
  {
   "cell_type": "code",
   "execution_count": 22,
   "metadata": {},
   "outputs": [],
   "source": [
    "class FilmsParser:\n",
    "    uhead = [\"id\",\"username\",\"episodes\",\"hours\",\"days\"]\n",
    "    fhead = [\"fid\",\"uid\",\"mark\",\"stat\",\"views\"]\n",
    "    \n",
    "    def __init__(self, users, films, mode=\"a+\", lock=None, echo=False):\n",
    "        self.ufile = open(users,mode, newline='', encoding='utf-8')\n",
    "        self.ffile = open(films,mode, newline='', encoding='utf-8')\n",
    "        \n",
    "        #move to begin\n",
    "        self.ufile.seek(0,0)\n",
    "        self.ffile.seek(0,0)\n",
    "        \n",
    "        self.users = set()\n",
    "        ureader = csv.DictReader(self.ufile, fieldnames=self.uhead)\n",
    "        for row in ureader:\n",
    "            self.users.add(row[\"username\"])\n",
    "        \n",
    "        self.uid = len(self.users)\n",
    "        self.uwriter = csv.DictWriter(self.ufile, fieldnames=self.uhead)\n",
    "        self.fwriter = csv.DictWriter(self.ffile, fieldnames=self.fhead)\n",
    "        self.lock = lock\n",
    "        self.echo = echo\n",
    "        \n",
    "        #move to end\n",
    "        self.ufile.seek(0,2)\n",
    "        self.ffile.seek(0,2)\n",
    "        \n",
    "        print(\"Readed %d uniq users\" % self.uid)\n",
    "        \n",
    "    def close(self):\n",
    "        self.ufile.close()\n",
    "        self.ffile.close()\n",
    "    \n",
    "    def __del__(self):\n",
    "        self.close()\n",
    "        \n",
    "    def __enter__(self):\n",
    "        return self\n",
    "\n",
    "    def __exit__(self, typ, val, tb):\n",
    "        self.close()\n",
    "        \n",
    "    def atomic(func):\n",
    "        def enter_lock(self, *args, **kwargs):\n",
    "            if self.lock is not None:\n",
    "                with self.lock:\n",
    "                    ret = func(self, *args, **kwargs)\n",
    "            else: ret = func(self, *args, **kwargs)\n",
    "            return ret\n",
    "        return enter_lock\n",
    "        \n",
    "    @atomic\n",
    "    def addUser(self, username, episodes, hours, days):\n",
    "        self.users.add(username)\n",
    "        self.uwriter.writerow(dict(zip(self.uhead, (self.uid,username,episodes,hours,days))))\n",
    "        self.uid = self.uid + 1\n",
    "        \n",
    "    @atomic\n",
    "    def addFilm(self, fid, uid, mark, stat, views):\n",
    "        self.fwriter.writerow(dict(zip(self.fhead, (fid,uid,mark,stat,views))))\n",
    "        \n",
    "    def parseUserMarks(self, username, link, html=None):\n",
    "        if username in self.users: return\n",
    "        \n",
    "        if html is None: soup = get_soup_by_url(link)\n",
    "        else: soup = BeautifulSoup(html, 'html.parser')\n",
    "            \n",
    "        stats = soup.select(\".statusBlock div\")\n",
    "        if stats is None or len(stats) < 3: \n",
    "            #Private profile\n",
    "            self.addUser(username, -1, -1, -1)\n",
    "            return\n",
    "        \n",
    "        episodes, hours, days = (int(only_digits(stat.get_text())) \\\n",
    "                                 for stat in soup.select(\".statusBlock div\")[:3])\n",
    "        \n",
    "        uid = self.uid\n",
    "        self.addUser(username, episodes, hours, days)\n",
    "        \n",
    "        for stat,table in enumerate(soup.select(\".tabs_cont\")):\n",
    "            for row in table.findAll(\"tr\"):\n",
    "                cells = row.findAll(\"td\")\n",
    "                if len(cells) != 3: continue # Expand button row\n",
    "                fid = int(cells[0].find(\"a\").attrs['href'].split('/')[-2])\n",
    "                stars = int(only_digits(cells[1].find('span').attrs['class'][1]))\n",
    "                views = int(cells[2].select(\"._done\")[0].string)\n",
    "                \n",
    "                self.addFilm(fid,uid,stars,stat,views)\n",
    "                \n",
    "        if self.echo:\n",
    "            print(\"Added %s, Users now: %d\" % (username, self.uid))\n",
    "        \n",
    "    def parseUsers(self, link, session=None):\n",
    "        if session is None: session = requests.Session()\n",
    "        html = session.get(link).text.strip()\n",
    "        soup = BeautifulSoup(html, 'html.parser')\n",
    "\n",
    "        users = soup.select(\"main .col4\")\n",
    "        usernames = list()\n",
    "        links = list()\n",
    "        for user in users:\n",
    "            link = user.find('a').attrs['href']\n",
    "            username = user.select('.userBlockName')[0].string\n",
    "            if self.echo:\n",
    "                print(username,link)\n",
    "            if not username in self.users:\n",
    "                usernames.append(username)\n",
    "                links.append(link)\n",
    "            #self.parseUserMarks(username, link)\n",
    "        rs = (grequests.get(u, timeout=2, session=session) for u in links[:30])\n",
    "        responses = grequests.map(rs)\n",
    "        for resp, username, link in zip(responses, usernames, links):\n",
    "            if resp is None: \n",
    "                if self.echo:\n",
    "                    print(\"Response for %s is None\" % link)\n",
    "                continue\n",
    "            self.parseUserMarks(username, link, resp.text.strip())\n",
    "            \n",
    "        return users is not None and len(users) > 0\n",
    "    "
   ]
  },
  {
   "cell_type": "markdown",
   "metadata": {},
   "source": [
    "```python\n",
    "mode=\"w+\" - создаёт чистый файл\n",
    "mode=\"r+\" - открывает если есть\n",
    "```"
   ]
  },
  {
   "cell_type": "code",
   "execution_count": 23,
   "metadata": {
    "scrolled": false
   },
   "outputs": [
    {
     "name": "stdout",
     "output_type": "stream",
     "text": [
      "Readed 550319 uniq users\n",
      "Thiarnan https://myshows.me/Thiarnan\n",
      "Dinobot https://myshows.me/Dinobot\n",
      "Jumper_D https://myshows.me/Jumper_D\n",
      "Elia4014 https://myshows.me/Elia4014\n",
      "fcdd_yura https://myshows.me/fcdd_yura\n",
      "jjj2657724 https://myshows.me/jjj2657724\n",
      "n_kisl96 https://myshows.me/n_kisl96\n",
      "vk382607 https://myshows.me/vk382607\n",
      "bu_michelle https://myshows.me/bu_michelle\n",
      "sborisenko96 https://myshows.me/sborisenko96\n",
      "id165174749 https://myshows.me/id165174749\n",
      "MINNESOTKA https://myshows.me/MINNESOTKA\n",
      "Linato https://myshows.me/Linato\n",
      "vk322408 https://myshows.me/vk322408\n",
      "chekun https://myshows.me/chekun\n",
      "OksanaSavich https://myshows.me/OksanaSavich\n",
      "Ksenchez https://myshows.me/Ksenchez\n",
      "id13018570 https://myshows.me/id13018570\n",
      "solz0r https://myshows.me/solz0r\n",
      "Бреган_Дэрт https://myshows.me/Бреган_Дэрт\n",
      "Mariee https://myshows.me/Mariee\n",
      "Roman007007 https://myshows.me/Roman007007\n",
      "Светка_мо https://myshows.me/Светка_мо\n",
      "LidiaMartin https://myshows.me/LidiaMartin\n",
      "nicholas https://myshows.me/nicholas\n",
      "advokat170 https://myshows.me/advokat170\n",
      "zdenek777 https://myshows.me/zdenek777\n",
      "guefi https://myshows.me/guefi\n",
      "Agreinel https://myshows.me/Agreinel\n",
      "LuckyStar1991 https://myshows.me/LuckyStar1991\n",
      "Added Thiarnan, Users now: 550320\n",
      "Added Dinobot, Users now: 550321\n",
      "Added Jumper_D, Users now: 550322\n",
      "Added Elia4014, Users now: 550323\n",
      "Added fcdd_yura, Users now: 550324\n",
      "Added jjj2657724, Users now: 550325\n",
      "Added n_kisl96, Users now: 550326\n",
      "Added vk382607, Users now: 550327\n",
      "Added sborisenko96, Users now: 550328\n",
      "Added id165174749, Users now: 550329\n",
      "Added Linato, Users now: 550330\n",
      "Added chekun, Users now: 550331\n",
      "Added OksanaSavich, Users now: 550332\n",
      "Added Ksenchez, Users now: 550333\n",
      "Added id13018570, Users now: 550334\n",
      "Added solz0r, Users now: 550335\n",
      "Added Бреган_Дэрт, Users now: 550336\n",
      "Added Mariee, Users now: 550337\n",
      "Added Roman007007, Users now: 550338\n",
      "Added Светка_мо, Users now: 550339\n",
      "Added LidiaMartin, Users now: 550340\n",
      "Added advokat170, Users now: 550341\n",
      "Added guefi, Users now: 550342\n",
      "Added Agreinel, Users now: 550343\n"
     ]
    }
   ],
   "source": [
    "with FilmsParser(USERS_TABLE,FILMS_TABLE,mode=\"r+\",echo=True) as fp:\n",
    "    fp.parseUsers(\"https://myshows.me/community/users/\")"
   ]
  },
  {
   "cell_type": "code",
   "execution_count": 24,
   "metadata": {},
   "outputs": [],
   "source": [
    "import pandas as pd"
   ]
  },
  {
   "cell_type": "code",
   "execution_count": 25,
   "metadata": {},
   "outputs": [],
   "source": [
    "udf = pd.read_csv(USERS_TABLE, names=FilmsParser.uhead, index_col=0)\n",
    "fdf = pd.read_csv(FILMS_TABLE, names=FilmsParser.fhead)"
   ]
  },
  {
   "cell_type": "code",
   "execution_count": 26,
   "metadata": {},
   "outputs": [
    {
     "data": {
      "text/html": [
       "<div>\n",
       "<style scoped>\n",
       "    .dataframe tbody tr th:only-of-type {\n",
       "        vertical-align: middle;\n",
       "    }\n",
       "\n",
       "    .dataframe tbody tr th {\n",
       "        vertical-align: top;\n",
       "    }\n",
       "\n",
       "    .dataframe thead th {\n",
       "        text-align: right;\n",
       "    }\n",
       "</style>\n",
       "<table border=\"1\" class=\"dataframe\">\n",
       "  <thead>\n",
       "    <tr style=\"text-align: right;\">\n",
       "      <th></th>\n",
       "      <th>username</th>\n",
       "      <th>episodes</th>\n",
       "      <th>hours</th>\n",
       "      <th>days</th>\n",
       "    </tr>\n",
       "    <tr>\n",
       "      <th>id</th>\n",
       "      <th></th>\n",
       "      <th></th>\n",
       "      <th></th>\n",
       "      <th></th>\n",
       "    </tr>\n",
       "  </thead>\n",
       "  <tbody>\n",
       "    <tr>\n",
       "      <th>0</th>\n",
       "      <td>philoctetes</td>\n",
       "      <td>4069</td>\n",
       "      <td>2718</td>\n",
       "      <td>113</td>\n",
       "    </tr>\n",
       "    <tr>\n",
       "      <th>1</th>\n",
       "      <td>id1700103</td>\n",
       "      <td>1722</td>\n",
       "      <td>1310</td>\n",
       "      <td>55</td>\n",
       "    </tr>\n",
       "    <tr>\n",
       "      <th>2</th>\n",
       "      <td>FallenFromMoon</td>\n",
       "      <td>8155</td>\n",
       "      <td>4536</td>\n",
       "      <td>189</td>\n",
       "    </tr>\n",
       "    <tr>\n",
       "      <th>3</th>\n",
       "      <td>FaidEyren</td>\n",
       "      <td>4883</td>\n",
       "      <td>3257</td>\n",
       "      <td>136</td>\n",
       "    </tr>\n",
       "    <tr>\n",
       "      <th>4</th>\n",
       "      <td>Requnael</td>\n",
       "      <td>5293</td>\n",
       "      <td>3269</td>\n",
       "      <td>136</td>\n",
       "    </tr>\n",
       "  </tbody>\n",
       "</table>\n",
       "</div>"
      ],
      "text/plain": [
       "          username  episodes  hours  days\n",
       "id                                       \n",
       "0      philoctetes      4069   2718   113\n",
       "1        id1700103      1722   1310    55\n",
       "2   FallenFromMoon      8155   4536   189\n",
       "3        FaidEyren      4883   3257   136\n",
       "4         Requnael      5293   3269   136"
      ]
     },
     "execution_count": 26,
     "metadata": {},
     "output_type": "execute_result"
    }
   ],
   "source": [
    "udf.head()"
   ]
  },
  {
   "cell_type": "code",
   "execution_count": 27,
   "metadata": {
    "scrolled": false
   },
   "outputs": [
    {
     "data": {
      "text/html": [
       "<div>\n",
       "<style scoped>\n",
       "    .dataframe tbody tr th:only-of-type {\n",
       "        vertical-align: middle;\n",
       "    }\n",
       "\n",
       "    .dataframe tbody tr th {\n",
       "        vertical-align: top;\n",
       "    }\n",
       "\n",
       "    .dataframe thead th {\n",
       "        text-align: right;\n",
       "    }\n",
       "</style>\n",
       "<table border=\"1\" class=\"dataframe\">\n",
       "  <thead>\n",
       "    <tr style=\"text-align: right;\">\n",
       "      <th></th>\n",
       "      <th>fid</th>\n",
       "      <th>uid</th>\n",
       "      <th>mark</th>\n",
       "      <th>stat</th>\n",
       "      <th>views</th>\n",
       "    </tr>\n",
       "  </thead>\n",
       "  <tbody>\n",
       "    <tr>\n",
       "      <th>10441300</th>\n",
       "      <td>54382</td>\n",
       "      <td>550342</td>\n",
       "      <td>0</td>\n",
       "      <td>3</td>\n",
       "      <td>32</td>\n",
       "    </tr>\n",
       "    <tr>\n",
       "      <th>10441301</th>\n",
       "      <td>24054</td>\n",
       "      <td>550342</td>\n",
       "      <td>0</td>\n",
       "      <td>3</td>\n",
       "      <td>16</td>\n",
       "    </tr>\n",
       "    <tr>\n",
       "      <th>10441302</th>\n",
       "      <td>6528</td>\n",
       "      <td>550342</td>\n",
       "      <td>0</td>\n",
       "      <td>3</td>\n",
       "      <td>10</td>\n",
       "    </tr>\n",
       "    <tr>\n",
       "      <th>10441303</th>\n",
       "      <td>22610</td>\n",
       "      <td>550342</td>\n",
       "      <td>0</td>\n",
       "      <td>3</td>\n",
       "      <td>200</td>\n",
       "    </tr>\n",
       "    <tr>\n",
       "      <th>10441304</th>\n",
       "      <td>16813</td>\n",
       "      <td>550342</td>\n",
       "      <td>0</td>\n",
       "      <td>3</td>\n",
       "      <td>69</td>\n",
       "    </tr>\n",
       "  </tbody>\n",
       "</table>\n",
       "</div>"
      ],
      "text/plain": [
       "            fid     uid  mark  stat  views\n",
       "10441300  54382  550342     0     3     32\n",
       "10441301  24054  550342     0     3     16\n",
       "10441302   6528  550342     0     3     10\n",
       "10441303  22610  550342     0     3    200\n",
       "10441304  16813  550342     0     3     69"
      ]
     },
     "execution_count": 27,
     "metadata": {},
     "output_type": "execute_result"
    }
   ],
   "source": [
    "fdf.tail()"
   ]
  },
  {
   "cell_type": "markdown",
   "metadata": {},
   "source": [
    "### Однопоточная реализация\n",
    "~ 3 Users / sec"
   ]
  },
  {
   "cell_type": "code",
   "execution_count": null,
   "metadata": {},
   "outputs": [],
   "source": [
    "from IPython.display import clear_output\n",
    "from time import time\n",
    "#from tqdm import tqdm as tqdm\n",
    "\n",
    "with FilmsParser(USERS_TABLE,FILMS_TABLE,mode=\"r+\") as fp:\n",
    "    it = 700\n",
    "    users_target = 150000\n",
    "    #pbar = tqdm(total=users_target,initial=fp.uid,miniters=0)\n",
    "    ups = 0 #users per sec\n",
    "    while fp.uid < users_target:\n",
    "        print(\"Page: %d, Users: %d, U/S=%.4g\" % (it, fp.uid, ups))\n",
    "        lv = fp.uid\n",
    "        lt = time()\n",
    "        fp.parseUsers(\"https://myshows.me/community/users/?page={}\".format(it))\n",
    "        it += 1\n",
    "        clear_output(wait=True)\n",
    "        ups = (fp.uid-lv)/(time()-lt)\n",
    "        #one iter adds ~30 users"
   ]
  },
  {
   "cell_type": "markdown",
   "metadata": {},
   "source": [
    "### Добавим параллельности и всё такое\n",
    "~ 15$\\pm$5 Users / sec"
   ]
  },
  {
   "cell_type": "code",
   "execution_count": 28,
   "metadata": {},
   "outputs": [
    {
     "name": "stdout",
     "output_type": "stream",
     "text": [
      "Page: 21055, Users: 550432(+5), U/S=7.957\n"
     ]
    }
   ],
   "source": [
    "import multiprocessing\n",
    "from time import time\n",
    "from IPython.display import clear_output\n",
    "\n",
    "from concurrent.futures import ProcessPoolExecutor, ThreadPoolExecutor\n",
    "lock = multiprocessing.Semaphore()\n",
    "\n",
    "with FilmsParser(USERS_TABLE,FILMS_TABLE,mode=\"a+\",lock=lock) as fp, \\\n",
    "    requests.Session() as ss, \\\n",
    "    ThreadPoolExecutor(max_workers=16) as executor:\n",
    "    \n",
    "    page = 21040\n",
    "    old_uid = fp.uid\n",
    "    old_uid2 = fp.uid\n",
    "    old_t = time()\n",
    "    ups = 0\n",
    "    def threadFunc():\n",
    "        global fp, page, old_uid, old_uid2, old_t, ups, lock, ss\n",
    "        while True:\n",
    "            with lock:\n",
    "                c_page = page\n",
    "                page += 1\n",
    "            fp.parseUsers(\"https://myshows.me/community/users/?page={}\".format(c_page), session=None)\n",
    "            with lock:\n",
    "                delta = fp.uid-old_uid2\n",
    "                old_uid2 = fp.uid\n",
    "                print(\"Page: %d, Users: %d(+%d), U/S=%.4g\" % (page, fp.uid, delta, ups))\n",
    "                clear_output(wait=True)\n",
    "                new_t = time()\n",
    "                if new_t - old_t > 10.0:\n",
    "                    ups = (fp.uid-old_uid)/(new_t-old_t)\n",
    "                    old_uid = fp.uid\n",
    "                    old_t = time()\n",
    "                c_uid = fp.uid\n",
    "            if c_uid > 550000: break\n",
    "            \n",
    "    executor.submit(threadFunc)\n",
    "    executor.submit(threadFunc)\n",
    "    executor.submit(threadFunc)\n",
    "    executor.submit(threadFunc)\n",
    "    executor.submit(threadFunc)\n",
    "    executor.submit(threadFunc)\n",
    "    executor.submit(threadFunc)\n",
    "    executor.submit(threadFunc)\n",
    "    executor.submit(threadFunc)\n",
    "    executor.submit(threadFunc)\n",
    "    executor.submit(threadFunc)\n",
    "    executor.submit(threadFunc)\n",
    "    executor.submit(threadFunc)\n",
    "    executor.submit(threadFunc)\n",
    "    executor.submit(threadFunc)"
   ]
  },
  {
   "cell_type": "markdown",
   "metadata": {},
   "source": [
    "### Делаем только с оценками (удаляем нули)"
   ]
  },
  {
   "cell_type": "code",
   "execution_count": 59,
   "metadata": {},
   "outputs": [
    {
     "data": {
      "application/vnd.jupyter.widget-view+json": {
       "model_id": "b2b9900d1a184865b9cfb4115613c670",
       "version_major": 2,
       "version_minor": 0
      },
      "text/plain": [
       "HBox(children=(IntProgress(value=1, bar_style='info', max=1), HTML(value='')))"
      ]
     },
     "metadata": {},
     "output_type": "display_data"
    }
   ],
   "source": [
    "import os\n",
    "from tqdm import tqdm_notebook as tqdm\n",
    "with open(FILMS_TABLE, \"r\", newline='', encoding='utf-8') as ft:\n",
    "    films_without_zero = list(os.path.splitext(FILMS_TABLE))\n",
    "    films_without_zero[0]+=\"_nozeros\"\n",
    "    films_without_zero = \"\".join(films_without_zero)\n",
    "    with open(films_without_zero, \"w\", newline='', encoding='utf-8') as fnzt:\n",
    "        freader = csv.DictReader(ft, fieldnames=FilmsParser.fhead)\n",
    "        fwriter = csv.DictWriter(fnzt, fieldnames=FilmsParser.fhead)\n",
    "        bar = tqdm(freader, unit=\"F\", miniters=100000)\n",
    "        filtered = all_cnt = 0\n",
    "        for row in bar:\n",
    "            all_cnt += 1\n",
    "            if row[\"mark\"] != \"0\":\n",
    "                fwriter.writerow(row)\n",
    "                filtered += 1\n",
    "                bar.set_postfix(Filtered=\"%d\" % filtered, refresh=False)\n",
    "        "
   ]
  },
  {
   "cell_type": "markdown",
   "metadata": {},
   "source": [
    "Для статистики посчитает количество только публичных пользователей"
   ]
  },
  {
   "cell_type": "code",
   "execution_count": 58,
   "metadata": {},
   "outputs": [
    {
     "data": {
      "application/vnd.jupyter.widget-view+json": {
       "model_id": "db078283a6a74520843c1028cab70840",
       "version_major": 2,
       "version_minor": 0
      },
      "text/plain": [
       "HBox(children=(IntProgress(value=1, bar_style='info', max=1), HTML(value='')))"
      ]
     },
     "metadata": {},
     "output_type": "display_data"
    }
   ],
   "source": [
    "import os\n",
    "from tqdm import tqdm_notebook as tqdm\n",
    "with open(USERS_TABLE, \"r\", newline='', encoding='utf-8') as ut:\n",
    "    only_public_users = list(os.path.splitext(USERS_TABLE))\n",
    "    only_public_users[0]+=\"_public\"\n",
    "    only_public_users = \"\".join(only_public_users)\n",
    "    with open(only_public_users, \"w\", newline='', encoding='utf-8') as upbt:\n",
    "        ureader = csv.DictReader(ut, fieldnames=FilmsParser.uhead)\n",
    "        uwriter = csv.DictWriter(upbt, fieldnames=FilmsParser.uhead)\n",
    "        bar = tqdm(ureader, unit=\"U\", miniters=100000)\n",
    "        filtered = all_cnt = 0\n",
    "        for row in bar:\n",
    "            all_cnt += 1\n",
    "            if row[\"episodes\"] != \"-1\":\n",
    "                uwriter.writerow(row)\n",
    "                filtered += 1\n",
    "                bar.set_postfix(Filtered=\"%d\" % filtered, refresh=False)\n",
    "        "
   ]
  },
  {
   "cell_type": "markdown",
   "metadata": {},
   "source": [
    "<div align=\"right\">Alex Sobolev, 2018</div>"
   ]
  }
 ],
 "metadata": {
  "kernelspec": {
   "display_name": "Python 3",
   "language": "python",
   "name": "python3"
  },
  "language_info": {
   "codemirror_mode": {
    "name": "ipython",
    "version": 3
   },
   "file_extension": ".py",
   "mimetype": "text/x-python",
   "name": "python",
   "nbconvert_exporter": "python",
   "pygments_lexer": "ipython3",
   "version": "3.6.6"
  }
 },
 "nbformat": 4,
 "nbformat_minor": 2
}
