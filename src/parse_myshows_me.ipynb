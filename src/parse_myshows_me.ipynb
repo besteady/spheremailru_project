{
 "cells": [
  {
   "cell_type": "code",
   "execution_count": null,
   "metadata": {},
   "outputs": [],
   "source": [
    "from bs4 import BeautifulSoup\n",
    "import random\n",
    "import html\n",
    "import requests\n",
    "import re\n",
    "from time import sleep\n",
    "from urllib.parse import quote\n",
    "import pandas as pd\n",
    "from concurrent.futures import ProcessPoolExecutor\n",
    "from tqdm import tqdm_notebook\n",
    "from multiprocessing import Pool"
   ]
  },
  {
   "cell_type": "code",
   "execution_count": null,
   "metadata": {},
   "outputs": [],
   "source": [
    "site = 'https://myshows.me/community/users/?page={}'\n",
    "max_num_page = 5000"
   ]
  },
  {
   "cell_type": "code",
   "execution_count": null,
   "metadata": {},
   "outputs": [],
   "source": [
    "def random_sleep(offset=1.5, length=4):\n",
    "    sleep(random.random() * length + offset)\n",
    "    \n",
    "def extract_users_from_page(site_num):\n",
    "    soup = BeautifulSoup(requests.get(site.format(site_num)).text, 'html.parser')\n",
    "    res = []\n",
    "    \n",
    "    links = soup.find_all('a', class_='userBlock linkBlock')\n",
    "    for link in links:\n",
    "        res.append(link.attrs['href'])\n",
    "    \n",
    "    return res\n",
    "\n",
    "def extract_grades_from_user_page(user_url):\n",
    "    soup = BeautifulSoup(requests.get(user_url).text, 'html.parser')\n",
    "    res = {}\n",
    "    \n",
    "    tabs = soup.find_all('div', class_='tabs_cont')\n",
    "    \n",
    "    for completed_tab in tabs:\n",
    "        all_grades = completed_tab.find_all('tr')\n",
    "        for grade in all_grades[:-1]:\n",
    "            grade_parts = grade.find_all('td')\n",
    "            id_s = grade_parts[0].find('a').attrs['href'].split('/')[-2]\n",
    "            grade_value = grade_parts[1].find('span').attrs['class'][1][1]\n",
    "            res[id_s] = grade_value\n",
    "    \n",
    "    return res"
   ]
  },
  {
   "cell_type": "code",
   "execution_count": null,
   "metadata": {},
   "outputs": [],
   "source": [
    "#Do not run\n",
    "%%time\n",
    "\n",
    "\n",
    "with ProcessPoolExecutor(max_workers=4) as executor:\n",
    "    result = list(executor.map(extract_users_from_page,\n",
    "                               list(range(max_num_page))))\n",
    "    \n",
    "unpack_result = []\n",
    "for l in result:\n",
    "    unpack_result += l\n",
    "\n",
    "with open('user_urls.txt', 'w') as fin:\n",
    "    for row in unpack_result:\n",
    "        fin.write(row + '\\n')"
   ]
  },
  {
   "cell_type": "code",
   "execution_count": null,
   "metadata": {},
   "outputs": [],
   "source": [
    "user_urls = []\n",
    "with open('user_urls.txt', 'r') as fin:\n",
    "    for row in fin:\n",
    "        user_urls.append(row[:-1])\n",
    "user_urls"
   ]
  },
  {
   "cell_type": "code",
   "execution_count": null,
   "metadata": {},
   "outputs": [],
   "source": [
    "print(len(set(unpack_result)), len(unpack_result))\n",
    "user_urls = list(set(unpack_result))"
   ]
  },
  {
   "cell_type": "code",
   "execution_count": null,
   "metadata": {},
   "outputs": [],
   "source": [
    "%%time\n",
    "\n",
    "# try:\n",
    "extract_grades_from_user_page('https://myshows.me/vk819107')\n",
    "# except:\n",
    "#     pass"
   ]
  },
  {
   "cell_type": "code",
   "execution_count": null,
   "metadata": {},
   "outputs": [],
   "source": [
    "def ignore_errors_extract_grades_from_user_page(user_url):\n",
    "    try:\n",
    "        return extract_grades_from_user_page(user_url)\n",
    "    except:\n",
    "        print('parsing {} finish with error'.format(user_url))"
   ]
  },
  {
   "cell_type": "code",
   "execution_count": null,
   "metadata": {},
   "outputs": [],
   "source": [
    "%%time\n",
    "\n",
    "with ProcessPoolExecutor(max_workers=4) as executor:\n",
    "    result = list(tqdm(executor.map(ignore_errors_extract_grades_from_user_page,\n",
    "                               tqdm(user_urls))))\n",
    "\n",
    "user_ratings = pd.DataFrame(columns=['user_id', 'show_id', 'grade'])\n",
    "\n",
    "for i, grades in enumerate(result):\n",
    "    for show_id, grade in grades.items():\n",
    "        user_ratings = user_ratings.append({'user_id' : i,\n",
    "                                           'show_id' : show_id,\n",
    "                                           'grade' : grade}, ignore_index=True)\n",
    "user_ratings.to_csv('user_ratings.csv')"
   ]
  },
  {
   "cell_type": "code",
   "execution_count": null,
   "metadata": {},
   "outputs": [],
   "source": [
    "result = []\n",
    "pbar = tqdm_notebook(total=len(user_urls))\n",
    "\n",
    "def wrapMyFunc(arg):\n",
    "    return ignore_errors_extract_grades_from_user_page(arg)\n",
    "\n",
    "def update(ans):\n",
    "    # note: input comes from async `wrapMyFunc`\n",
    "    global result, pbar\n",
    "    result.append(ans) \n",
    "    pbar.update()\n",
    "\n",
    "pool = Pool(4)\n",
    "for url in user_urls:\n",
    "    pool.apply_async(wrapMyFunc, args=(url,), callback=update)\n",
    "\n",
    "pool.close()\n",
    "pool.join()\n",
    "pbar.close()\n",
    "\n",
    "user_ratings = pd.DataFrame(columns=['user_id', 'show_id', 'grade'])\n",
    "\n",
    "for i, grades in enumerate(result):\n",
    "    for show_id, grade in grades.items():\n",
    "        user_ratings = user_ratings.append({'user_id' : i,\n",
    "                                           'show_id' : show_id,\n",
    "                                           'grade' : grade}, ignore_index=True)\n",
    "user_ratings.to_csv('user_ratings.csv')"
   ]
  },
  {
   "cell_type": "code",
   "execution_count": null,
   "metadata": {},
   "outputs": [],
   "source": [
    "len(result)"
   ]
  },
  {
   "cell_type": "code",
   "execution_count": null,
   "metadata": {},
   "outputs": [],
   "source": [
    "with open('ratings_without_zeros.txt', 'w') as fout:\n",
    "    for i, row in enumerate(result):\n",
    "        for show_id, grade in row.items():\n",
    "            if int(grade) != 0:\n",
    "                fout.write('{} {} {}\\n'.format(i, show_id, grade))"
   ]
  },
  {
   "cell_type": "code",
   "execution_count": null,
   "metadata": {},
   "outputs": [],
   "source": [
    "pool.close()\n",
    "pool.join()\n",
    "pbar.close()"
   ]
  }
 ],
 "metadata": {
  "kernelspec": {
   "display_name": "Python 3",
   "language": "python",
   "name": "python3"
  },
  "language_info": {
   "codemirror_mode": {
    "name": "ipython",
    "version": 3
   },
   "file_extension": ".py",
   "mimetype": "text/x-python",
   "name": "python",
   "nbconvert_exporter": "python",
   "pygments_lexer": "ipython3",
   "version": "3.6.4"
  }
 },
 "nbformat": 4,
 "nbformat_minor": 2
}
