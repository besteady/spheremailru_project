{
 "cells": [
  {
   "cell_type": "markdown",
   "metadata": {
    "slideshow": {
     "slide_type": "slide"
    }
   },
   "source": [
    "# Семестровый проект.\n",
    "# Рекомендательная система для сериалов\n",
    "\n",
    "#### Шадрин Сергей, Слепцов Александр, Данько Артем"
   ]
  },
  {
   "cell_type": "markdown",
   "metadata": {
    "slideshow": {
     "slide_type": "slide"
    }
   },
   "source": [
    "### Задачи и цели\n",
    "\n",
    "Цель проекта — на примере сайта myshows.me создать рекомендательную систему для сериалов, то есть уметь предсказывать рейтинг непросмотренного сериала для какого либо пользователя.\n",
    "\n",
    "Поставленные задачи:\n",
    "- Сбор и подготовка данных;\n",
    "- Выбор модели и метрики для оценки качества предсказания;\n",
    "- Применение на практике."
   ]
  },
  {
   "cell_type": "markdown",
   "metadata": {
    "slideshow": {
     "slide_type": "slide"
    }
   },
   "source": [
    "### Сбор данных\n",
    "\n",
    "Для начала с сайта был собран список из 150 тысяч пользователей. На странице пользователя отображаются его оценки, выставленные сериалам, причем сериалы делятся на следующие категории:\n",
    "  - \"смотрит\" (просматриваемые в данный момент),\n",
    "  - \"будет смотреть\" (сюда также включены еще невышедшие сериалы),\n",
    "  - \"перестал\" (сериалы, просмотр которых прекращен),\n",
    "  - \"полностью посмотрел\" (соответственно, просмотренные). \n",
    "\n",
    "Далее для каждого из 150 тысяч пользователей был получен список отмеченных им сериалов. Получилось 13096257 записей. Полученные данные состоят из трех столбцов: порядковый номер обработанной ссылки пользователя, ID сериала на сайте, выставленная этому сериалу оценка. \n",
    "\n",
    "Значения последнего столбца находится в диапазоне от 0 до 5, где 0 означает, что оценка данному сериалу не была выставлена. Данные с невыставленной оценкой не несут особой ценности, поэтому убираем их. В итоге мы получили 7112074 записей."
   ]
  },
  {
   "cell_type": "markdown",
   "metadata": {
    "slideshow": {
     "slide_type": "subslide"
    }
   },
   "source": [
    "Страница с пользователями myshows.me/community/users/\n",
    "\n",
    "<img src=\"rec_sys_images/users_page.png\">"
   ]
  },
  {
   "cell_type": "markdown",
   "metadata": {
    "slideshow": {
     "slide_type": "subslide"
    }
   },
   "source": [
    "Страница пользователя myshows.me/username\n",
    "\n",
    "<img src=\"rec_sys_images/user_page.png\">"
   ]
  },
  {
   "cell_type": "markdown",
   "metadata": {
    "slideshow": {
     "slide_type": "subslide"
    }
   },
   "source": [
    "Функции для парсинга страниц:\n",
    "\n",
    "```python\n",
    "site = 'https://myshows.me/community/users/?page={}'\n",
    "max_num_page = 5000\n",
    "\n",
    "def extract_users_from_page(site_num):\n",
    "    soup = BeautifulSoup(requests.get(site.format(site_num)).text, 'html.parser')\n",
    "    res = []\n",
    "    \n",
    "    links = soup.find_all('a', class_='userBlock linkBlock')\n",
    "    for link in links:\n",
    "        res.append(link.attrs['href'])\n",
    "    \n",
    "    return res\n",
    "\n",
    "def extract_grades_from_user_page(user_url):\n",
    "    soup = BeautifulSoup(requests.get(user_url).text, 'html.parser')\n",
    "    res = {}\n",
    "    \n",
    "    tabs = soup.find_all('div', class_='tabs_cont')\n",
    "    \n",
    "    for completed_tab in tabs:\n",
    "        all_grades = completed_tab.find_all('tr')\n",
    "        for grade in all_grades[:-1]:\n",
    "            grade_parts = grade.find_all('td')\n",
    "            id_s = grade_parts[0].find('a').attrs['href'].split('/')[-2]\n",
    "            grade_value = grade_parts[1].find('span').attrs['class'][1][1]\n",
    "            res[id_s] = grade_value\n",
    "    \n",
    "    return res\n",
    "```"
   ]
  },
  {
   "cell_type": "code",
   "execution_count": 80,
   "metadata": {
    "slideshow": {
     "slide_type": "notes"
    }
   },
   "outputs": [],
   "source": [
    "%matplotlib inline\n",
    "\n",
    "import os\n",
    "import numpy as np\n",
    "import pandas as pd\n",
    "import matplotlib.pyplot as plt\n",
    "from tqdm import tqdm_notebook\n",
    "\n",
    "from scipy.sparse.linalg import svds\n",
    "from scipy.sparse import coo_matrix\n",
    "from sklearn.preprocessing import LabelEncoder\n",
    "\n",
    "plt.style.use('ggplot')\n",
    "plt.rcParams['figure.figsize'] = (12, 6)\n",
    "\n",
    "from scipy.spatial.distance import cosine\n",
    "from scipy.spatial.distance import pdist\n",
    "from scipy.spatial.distance import squareform\n",
    "from scipy.spatial.distance import correlation\n",
    "from scipy.stats import pearsonr\n",
    "from sklearn.metrics import pairwise_distances\n",
    "import math\n",
    "\n",
    "from sklearn.metrics import mean_squared_error\n",
    "from sklearn.neighbors import NearestNeighbors\n",
    "\n",
    "import warnings\n",
    "warnings.filterwarnings(\"ignore\")"
   ]
  },
  {
   "cell_type": "code",
   "execution_count": 3,
   "metadata": {
    "slideshow": {
     "slide_type": "subslide"
    }
   },
   "outputs": [
    {
     "name": "stdout",
     "output_type": "stream",
     "text": [
      "<class 'pandas.core.frame.DataFrame'>\n",
      "RangeIndex: 7112074 entries, 0 to 7112073\n",
      "Data columns (total 3 columns):\n",
      "user_id       int64\n",
      "show_id       int64\n",
      "rating_val    int64\n",
      "dtypes: int64(3)\n",
      "memory usage: 162.8 MB\n"
     ]
    }
   ],
   "source": [
    "df_ratings = pd.read_csv('../data/ratings_without_zeros.csv',\n",
    "                         header=None,\n",
    "                         names=['user_id', 'show_id', 'rating_val'],\n",
    "                         sep=' ')\n",
    "\n",
    "df_ratings.info()"
   ]
  },
  {
   "cell_type": "code",
   "execution_count": 4,
   "metadata": {
    "slideshow": {
     "slide_type": "subslide"
    }
   },
   "outputs": [
    {
     "name": "stdout",
     "output_type": "stream",
     "text": [
      "(7112074, 3)\n"
     ]
    },
    {
     "data": {
      "text/html": [
       "<div>\n",
       "<style scoped>\n",
       "    .dataframe tbody tr th:only-of-type {\n",
       "        vertical-align: middle;\n",
       "    }\n",
       "\n",
       "    .dataframe tbody tr th {\n",
       "        vertical-align: top;\n",
       "    }\n",
       "\n",
       "    .dataframe thead th {\n",
       "        text-align: right;\n",
       "    }\n",
       "</style>\n",
       "<table border=\"1\" class=\"dataframe\">\n",
       "  <thead>\n",
       "    <tr style=\"text-align: right;\">\n",
       "      <th></th>\n",
       "      <th>user_id</th>\n",
       "      <th>show_id</th>\n",
       "      <th>rating_val</th>\n",
       "    </tr>\n",
       "  </thead>\n",
       "  <tbody>\n",
       "    <tr>\n",
       "      <th>0</th>\n",
       "      <td>1</td>\n",
       "      <td>55877</td>\n",
       "      <td>4</td>\n",
       "    </tr>\n",
       "    <tr>\n",
       "      <th>1</th>\n",
       "      <td>1</td>\n",
       "      <td>55672</td>\n",
       "      <td>4</td>\n",
       "    </tr>\n",
       "    <tr>\n",
       "      <th>2</th>\n",
       "      <td>1</td>\n",
       "      <td>41907</td>\n",
       "      <td>4</td>\n",
       "    </tr>\n",
       "    <tr>\n",
       "      <th>3</th>\n",
       "      <td>1</td>\n",
       "      <td>34737</td>\n",
       "      <td>5</td>\n",
       "    </tr>\n",
       "    <tr>\n",
       "      <th>4</th>\n",
       "      <td>1</td>\n",
       "      <td>44997</td>\n",
       "      <td>5</td>\n",
       "    </tr>\n",
       "    <tr>\n",
       "      <th>5</th>\n",
       "      <td>1</td>\n",
       "      <td>50726</td>\n",
       "      <td>4</td>\n",
       "    </tr>\n",
       "    <tr>\n",
       "      <th>6</th>\n",
       "      <td>1</td>\n",
       "      <td>48017</td>\n",
       "      <td>4</td>\n",
       "    </tr>\n",
       "    <tr>\n",
       "      <th>7</th>\n",
       "      <td>1</td>\n",
       "      <td>42707</td>\n",
       "      <td>3</td>\n",
       "    </tr>\n",
       "    <tr>\n",
       "      <th>8</th>\n",
       "      <td>1</td>\n",
       "      <td>26428</td>\n",
       "      <td>5</td>\n",
       "    </tr>\n",
       "    <tr>\n",
       "      <th>9</th>\n",
       "      <td>1</td>\n",
       "      <td>331</td>\n",
       "      <td>4</td>\n",
       "    </tr>\n",
       "  </tbody>\n",
       "</table>\n",
       "</div>"
      ],
      "text/plain": [
       "   user_id  show_id  rating_val\n",
       "0        1    55877           4\n",
       "1        1    55672           4\n",
       "2        1    41907           4\n",
       "3        1    34737           5\n",
       "4        1    44997           5\n",
       "5        1    50726           4\n",
       "6        1    48017           4\n",
       "7        1    42707           3\n",
       "8        1    26428           5\n",
       "9        1      331           4"
      ]
     },
     "execution_count": 4,
     "metadata": {},
     "output_type": "execute_result"
    }
   ],
   "source": [
    "print(df_ratings.shape)\n",
    "df_ratings.head(10)"
   ]
  },
  {
   "cell_type": "markdown",
   "metadata": {
    "slideshow": {
     "slide_type": "slide"
    }
   },
   "source": [
    "### Подготовка данных\n",
    "\n",
    "Разобьем данные на обучение и контроль в пропорции 95/5.\n",
    "\n",
    "В полном объеме датасет не будем использовать. Возьмем первые 100000 строк, из них на обучение — 95000, на контроль — 5000. Для этого каждую 20-ую строку из 100000 будем брать в контроль.\n",
    "\n",
    "В качестве метрики для качества будет использовать MSE:\n",
    "    $$ MSE = \\sum_{(u, m)}(r_{um} - y_{um})^{2} $$\n",
    "\n",
    "Здесь $r_{um}$ — предсказанный рейтинг фильма $m$ для пользователя $u$, $y_{um}$ — рейтинг, который в действительности проставил пользователь."
   ]
  },
  {
   "cell_type": "code",
   "execution_count": 7,
   "metadata": {
    "slideshow": {
     "slide_type": "subslide"
    }
   },
   "outputs": [],
   "source": [
    "train, test = df_ratings.iloc[:100000], df_ratings.iloc[range(0, 100000, 20)]\n",
    "train = train.drop(range(0, 100000, 20), axis=0)"
   ]
  },
  {
   "cell_type": "code",
   "execution_count": 10,
   "metadata": {
    "slideshow": {
     "slide_type": "subslide"
    }
   },
   "outputs": [
    {
     "name": "stdout",
     "output_type": "stream",
     "text": [
      "(743, 8860)\n"
     ]
    },
    {
     "data": {
      "text/html": [
       "<div>\n",
       "<style scoped>\n",
       "    .dataframe tbody tr th:only-of-type {\n",
       "        vertical-align: middle;\n",
       "    }\n",
       "\n",
       "    .dataframe tbody tr th {\n",
       "        vertical-align: top;\n",
       "    }\n",
       "\n",
       "    .dataframe thead th {\n",
       "        text-align: right;\n",
       "    }\n",
       "</style>\n",
       "<table border=\"1\" class=\"dataframe\">\n",
       "  <thead>\n",
       "    <tr style=\"text-align: right;\">\n",
       "      <th>show_id</th>\n",
       "      <th>1</th>\n",
       "      <th>2</th>\n",
       "      <th>3</th>\n",
       "      <th>4</th>\n",
       "      <th>5</th>\n",
       "      <th>6</th>\n",
       "      <th>7</th>\n",
       "      <th>8</th>\n",
       "      <th>9</th>\n",
       "      <th>10</th>\n",
       "      <th>...</th>\n",
       "      <th>59296</th>\n",
       "      <th>59297</th>\n",
       "      <th>59307</th>\n",
       "      <th>59314</th>\n",
       "      <th>59331</th>\n",
       "      <th>59347</th>\n",
       "      <th>59352</th>\n",
       "      <th>59364</th>\n",
       "      <th>59411</th>\n",
       "      <th>59414</th>\n",
       "    </tr>\n",
       "    <tr>\n",
       "      <th>user_id</th>\n",
       "      <th></th>\n",
       "      <th></th>\n",
       "      <th></th>\n",
       "      <th></th>\n",
       "      <th></th>\n",
       "      <th></th>\n",
       "      <th></th>\n",
       "      <th></th>\n",
       "      <th></th>\n",
       "      <th></th>\n",
       "      <th></th>\n",
       "      <th></th>\n",
       "      <th></th>\n",
       "      <th></th>\n",
       "      <th></th>\n",
       "      <th></th>\n",
       "      <th></th>\n",
       "      <th></th>\n",
       "      <th></th>\n",
       "      <th></th>\n",
       "      <th></th>\n",
       "    </tr>\n",
       "  </thead>\n",
       "  <tbody>\n",
       "    <tr>\n",
       "      <th>1</th>\n",
       "      <td>NaN</td>\n",
       "      <td>NaN</td>\n",
       "      <td>NaN</td>\n",
       "      <td>NaN</td>\n",
       "      <td>NaN</td>\n",
       "      <td>NaN</td>\n",
       "      <td>NaN</td>\n",
       "      <td>5.0</td>\n",
       "      <td>NaN</td>\n",
       "      <td>NaN</td>\n",
       "      <td>...</td>\n",
       "      <td>NaN</td>\n",
       "      <td>NaN</td>\n",
       "      <td>NaN</td>\n",
       "      <td>NaN</td>\n",
       "      <td>NaN</td>\n",
       "      <td>NaN</td>\n",
       "      <td>NaN</td>\n",
       "      <td>NaN</td>\n",
       "      <td>NaN</td>\n",
       "      <td>NaN</td>\n",
       "    </tr>\n",
       "    <tr>\n",
       "      <th>2</th>\n",
       "      <td>NaN</td>\n",
       "      <td>NaN</td>\n",
       "      <td>5.0</td>\n",
       "      <td>NaN</td>\n",
       "      <td>NaN</td>\n",
       "      <td>NaN</td>\n",
       "      <td>5.0</td>\n",
       "      <td>5.0</td>\n",
       "      <td>NaN</td>\n",
       "      <td>NaN</td>\n",
       "      <td>...</td>\n",
       "      <td>NaN</td>\n",
       "      <td>NaN</td>\n",
       "      <td>NaN</td>\n",
       "      <td>NaN</td>\n",
       "      <td>NaN</td>\n",
       "      <td>NaN</td>\n",
       "      <td>NaN</td>\n",
       "      <td>NaN</td>\n",
       "      <td>NaN</td>\n",
       "      <td>NaN</td>\n",
       "    </tr>\n",
       "    <tr>\n",
       "      <th>3</th>\n",
       "      <td>5.0</td>\n",
       "      <td>5.0</td>\n",
       "      <td>3.0</td>\n",
       "      <td>NaN</td>\n",
       "      <td>NaN</td>\n",
       "      <td>3.0</td>\n",
       "      <td>3.0</td>\n",
       "      <td>4.0</td>\n",
       "      <td>3.0</td>\n",
       "      <td>NaN</td>\n",
       "      <td>...</td>\n",
       "      <td>NaN</td>\n",
       "      <td>NaN</td>\n",
       "      <td>NaN</td>\n",
       "      <td>NaN</td>\n",
       "      <td>NaN</td>\n",
       "      <td>NaN</td>\n",
       "      <td>NaN</td>\n",
       "      <td>NaN</td>\n",
       "      <td>NaN</td>\n",
       "      <td>NaN</td>\n",
       "    </tr>\n",
       "    <tr>\n",
       "      <th>4</th>\n",
       "      <td>NaN</td>\n",
       "      <td>5.0</td>\n",
       "      <td>NaN</td>\n",
       "      <td>NaN</td>\n",
       "      <td>NaN</td>\n",
       "      <td>NaN</td>\n",
       "      <td>NaN</td>\n",
       "      <td>NaN</td>\n",
       "      <td>NaN</td>\n",
       "      <td>NaN</td>\n",
       "      <td>...</td>\n",
       "      <td>NaN</td>\n",
       "      <td>NaN</td>\n",
       "      <td>NaN</td>\n",
       "      <td>NaN</td>\n",
       "      <td>NaN</td>\n",
       "      <td>NaN</td>\n",
       "      <td>NaN</td>\n",
       "      <td>NaN</td>\n",
       "      <td>NaN</td>\n",
       "      <td>NaN</td>\n",
       "    </tr>\n",
       "    <tr>\n",
       "      <th>5</th>\n",
       "      <td>5.0</td>\n",
       "      <td>NaN</td>\n",
       "      <td>5.0</td>\n",
       "      <td>NaN</td>\n",
       "      <td>NaN</td>\n",
       "      <td>NaN</td>\n",
       "      <td>5.0</td>\n",
       "      <td>5.0</td>\n",
       "      <td>NaN</td>\n",
       "      <td>NaN</td>\n",
       "      <td>...</td>\n",
       "      <td>NaN</td>\n",
       "      <td>NaN</td>\n",
       "      <td>NaN</td>\n",
       "      <td>NaN</td>\n",
       "      <td>NaN</td>\n",
       "      <td>NaN</td>\n",
       "      <td>NaN</td>\n",
       "      <td>NaN</td>\n",
       "      <td>NaN</td>\n",
       "      <td>NaN</td>\n",
       "    </tr>\n",
       "  </tbody>\n",
       "</table>\n",
       "<p>5 rows × 8860 columns</p>\n",
       "</div>"
      ],
      "text/plain": [
       "show_id  1      2      3      4      5      6      7      8      9      10     \\\n",
       "user_id                                                                         \n",
       "1          NaN    NaN    NaN    NaN    NaN    NaN    NaN    5.0    NaN    NaN   \n",
       "2          NaN    NaN    5.0    NaN    NaN    NaN    5.0    5.0    NaN    NaN   \n",
       "3          5.0    5.0    3.0    NaN    NaN    3.0    3.0    4.0    3.0    NaN   \n",
       "4          NaN    5.0    NaN    NaN    NaN    NaN    NaN    NaN    NaN    NaN   \n",
       "5          5.0    NaN    5.0    NaN    NaN    NaN    5.0    5.0    NaN    NaN   \n",
       "\n",
       "show_id  ...    59296  59297  59307  59314  59331  59347  59352  59364  59411  \\\n",
       "user_id  ...                                                                    \n",
       "1        ...      NaN    NaN    NaN    NaN    NaN    NaN    NaN    NaN    NaN   \n",
       "2        ...      NaN    NaN    NaN    NaN    NaN    NaN    NaN    NaN    NaN   \n",
       "3        ...      NaN    NaN    NaN    NaN    NaN    NaN    NaN    NaN    NaN   \n",
       "4        ...      NaN    NaN    NaN    NaN    NaN    NaN    NaN    NaN    NaN   \n",
       "5        ...      NaN    NaN    NaN    NaN    NaN    NaN    NaN    NaN    NaN   \n",
       "\n",
       "show_id  59414  \n",
       "user_id         \n",
       "1          NaN  \n",
       "2          NaN  \n",
       "3          NaN  \n",
       "4          NaN  \n",
       "5          NaN  \n",
       "\n",
       "[5 rows x 8860 columns]"
      ]
     },
     "execution_count": 10,
     "metadata": {},
     "output_type": "execute_result"
    }
   ],
   "source": [
    "# Преобразуем train в матрицу\n",
    "train_table = train.pivot(index='user_id', columns='show_id', values='rating_val')\n",
    "print(train_table.shape)\n",
    "train_table.head()"
   ]
  },
  {
   "cell_type": "markdown",
   "metadata": {},
   "source": [
    "### Random алгоритм\n",
    "\n",
    "Посмотреть результат если будем предсказывать случайным образом."
   ]
  },
  {
   "cell_type": "code",
   "execution_count": 311,
   "metadata": {},
   "outputs": [
    {
     "name": "stdout",
     "output_type": "stream",
     "text": [
      "4.1628\n"
     ]
    }
   ],
   "source": [
    "pred = np.random.randint(1, 5, len(test))\n",
    "\n",
    "print(mean_squared_error(test.values[:, 2], pred))"
   ]
  },
  {
   "cell_type": "markdown",
   "metadata": {
    "slideshow": {
     "slide_type": "slide"
    }
   },
   "source": [
    "### Baseline алгоритм\n",
    "\n",
    "С помощью mse этого алгоритма будем оценивать последующие модели.\n",
    "Будем считать оценку пользователя $u$ для товара $i$ как $b_{ui}$:\n",
    "\n",
    "* $b_{ui} = \\mu + b_u + b_i$,\n",
    "* $b_{u} = \\frac{1}{|I_u|+\\alpha}\\sum_{i\\in I_u}(R_{ui} - \\mu)$\n",
    "* $b_{i} = \\frac{1}{|U_i|+\\beta}\\sum_{u\\in U_i}(R_{ui} - b_u - \\mu)$\n",
    "\n",
    "Интерпретация:\n",
    "* $b_u$ — насколько выше (ниже) среднего пользователь оценивает товары;\n",
    "* $b_i$ — насколько выше (ниже) среднего оценивается товар;\n",
    "* $\\mu$ — просто общий средний рейтинг;\n",
    "* $U_i$ — множество пользователей, оценивших товар $i$;\n",
    "* $I_u$ — множество товаров, оценненных пользователем $u$;\n",
    "* $\\alpha$, $\\beta$ — коэффиценты для сглаживания."
   ]
  },
  {
   "cell_type": "code",
   "execution_count": 125,
   "metadata": {
    "slideshow": {
     "slide_type": "subslide"
    }
   },
   "outputs": [
    {
     "name": "stdout",
     "output_type": "stream",
     "text": [
      "1.5696947424394272\n"
     ]
    }
   ],
   "source": [
    "matr = train_table.values\n",
    "\n",
    "mu = matr[~np.isnan(matr)].mean()\n",
    "alpha = 0.1\n",
    "beta = 0.1\n",
    "\n",
    "pred = np.zeros(len(test))\n",
    "\n",
    "for i in range(len(pred)):\n",
    "    uid, sid, _ = list(test.values[i, :])\n",
    "\n",
    "    ind1 = (train_table.index.values == uid)\n",
    "    ind2 = (train_table.columns.values == sid)\n",
    "    if len(ind1[ind1 == True]) == 0 or \\\n",
    "        len(ind2[ind2 == True]) == 0:\n",
    "        pred[i] = 0\n",
    "        continue\n",
    "    \n",
    "    b_u = 0\n",
    "    row = matr[ind1, :]\n",
    "    row_len = len(row[~np.isnan(row)])\n",
    "    row_sum = row[~np.isnan(row)].sum()\n",
    "    b_u = (row_sum - row_len * mu) / (row_len + alpha)\n",
    "    \n",
    "    b_i = 0\n",
    "    col = matr[:, ind2]\n",
    "    col_len = len(col[~np.isnan(col)])\n",
    "    col_sum = col[~np.isnan(col)].sum()\n",
    "    b_i = (col_sum - col_len * (mu + b_u)) / (col_len + beta)\n",
    "    \n",
    "    pred[i] = mu + b_u + b_i\n",
    "\n",
    "print(mean_squared_error(test.values[:, 2], pred))"
   ]
  },
  {
   "cell_type": "markdown",
   "metadata": {
    "slideshow": {
     "slide_type": "slide"
    }
   },
   "source": [
    "### User-based CF\n",
    "\n",
    "Так как количество юзеров у нас меньше, чем объектов, будем использовать User-based алгоритм:\n",
    "\n",
    "* Посчитаем сходство между пользователями $s \\in \\mathbb{R}^{U \\times U}$\n",
    "* Для целевого пользователя $u$ найти похожих пользователей $N(u)$\n",
    "$$ \\hat{R}_{ui} = \\bar{R}_u + \\frac{\\sum_{v \\in N(u)} s_{uv}(R_{vi} - \\bar{R}_v)}{\\sum_{v \\in N(u)} \\left| s_{uv}\\right|} $$\n",
    "\n",
    "* $\\bar{R}_u$ - поправка на писсимизм\\оптимизм пользователей\n",
    "\n",
    "В качестве функции сходства будем использовать корреляцию Пирсона. Похожих пользователей будем рассматривать, только если в пересечении сериалов, которые они посмотрели, больше 10 элементов. Для получения оценки будем брать\n",
    "100 ближайших юзеров."
   ]
  },
  {
   "cell_type": "code",
   "execution_count": 115,
   "metadata": {
    "slideshow": {
     "slide_type": "subslide"
    }
   },
   "outputs": [],
   "source": [
    "def my_similarity(u, v):\n",
    "    ind = ((u != 0) & (v != 0))\n",
    "    \n",
    "    if len(u[ind]) <= 10:\n",
    "        return 0\n",
    "    \n",
    "    return abs(pearsonr(u[ind], v[ind])[0])"
   ]
  },
  {
   "cell_type": "code",
   "execution_count": 116,
   "metadata": {
    "slideshow": {
     "slide_type": "subslide"
    }
   },
   "outputs": [
    {
     "data": {
      "text/plain": [
       "array([[0.        , 0.        , 0.49922104, ..., 0.        , 0.43222147,\n",
       "        0.33587572],\n",
       "       [0.        , 0.        , 0.05827165, ..., 0.        , 0.12309149,\n",
       "        0.09090909],\n",
       "       [0.49922104, 0.05827165, 0.        , ..., 0.        , 0.39700976,\n",
       "        0.22402048],\n",
       "       ...,\n",
       "       [0.        , 0.        , 0.        , ..., 0.        , 0.        ,\n",
       "        0.        ],\n",
       "       [0.43222147, 0.12309149, 0.39700976, ..., 0.        , 0.        ,\n",
       "        0.18058695],\n",
       "       [0.33587572, 0.09090909, 0.22402048, ..., 0.        , 0.18058695,\n",
       "        0.        ]])"
      ]
     },
     "execution_count": 116,
     "metadata": {},
     "output_type": "execute_result"
    }
   ],
   "source": [
    "# для pairwise_distances требуется, чтобы не было NaN'ов\n",
    "# поэтому заменяем NaN на 0\n",
    "res_corr = pairwise_distances(train_table.fillna(0).values, metric=my_similarity)\n",
    "np.fill_diagonal(res_corr, 0)\n",
    "res_corr = np.abs(res_corr)\n",
    "res_corr"
   ]
  },
  {
   "cell_type": "code",
   "execution_count": 312,
   "metadata": {
    "slideshow": {
     "slide_type": "subslide"
    }
   },
   "outputs": [
    {
     "name": "stdout",
     "output_type": "stream",
     "text": [
      "11.605216478293094\n"
     ]
    }
   ],
   "source": [
    "matr = train_table.fillna(0).values\n",
    "\n",
    "pred = np.zeros(len(test))\n",
    "\n",
    "for i in range(len(pred)):\n",
    "    uid, sid, _ = list(test.values[i, :])\n",
    "\n",
    "    ind1 = (train_table.index.values == uid)\n",
    "    ind2 = (train_table.columns.values == sid)\n",
    "\n",
    "    if len(ind1[ind1 == True]) == 0 or \\\n",
    "        len(ind2[ind2 == True]) == 0:\n",
    "        pred[i] = 0\n",
    "        continue\n",
    "        \n",
    "    inds_knear = np.argpartition(-res_corr[ind1, :].flatten(), 100)[:100]    \n",
    "    u_inds_knear = []\n",
    "    \n",
    "    for j in inds_knear:\n",
    "        row = matr[j, :]\n",
    "        if len(row[ind2]) != 0 and not math.isnan(row[ind2]):\n",
    "            u_inds_knear.append(j)\n",
    "    \n",
    "    if len(u_inds_knear) == 0:\n",
    "        pred[i] = 0\n",
    "        continue\n",
    "    \n",
    "    s = 0\n",
    "    z = 0\n",
    "    \n",
    "    for j in inds_knear:\n",
    "        row = matr[j, :]\n",
    "        s += (row[ind2] - row[row != 0].mean()) * res_corr[ind1, j]\n",
    "        z += abs(res_corr[ind1, j])\n",
    "    \n",
    "    row = matr[ind1, :]\n",
    "    t = row[row != 0].mean() + s / z\n",
    "        \n",
    "    if math.isnan(t) or t < 0:\n",
    "        t = 0\n",
    "        \n",
    "    pred[i] = t\n",
    "\n",
    "print(mean_squared_error(test.values[:, 2], pred))"
   ]
  },
  {
   "cell_type": "markdown",
   "metadata": {
    "slideshow": {
     "slide_type": "slide"
    }
   },
   "source": [
    "### Модели со скрытыми факторами. SVD\n",
    "\n",
    "Для каждого пользователя и товара построим векторы $p_u\\in \\mathbb{R}^{k}$ и $q_i \\in \\mathbb{R}^{k}$ так, чтобы\n",
    "$$ R_{ui} \\approx p_u^\\top q_i $$\n",
    "\n",
    "* $p_u$ иногда получается интерпретировать как заинтересованность пользователя в некоторой категории товаров;\n",
    "* $q_i$ иногда получается интерпретировать как принадлежность товара к определенной категории.\n",
    "\n",
    "Будем использовать SVD:\n",
    "$$ X = U \\Sigma V^\\top ,$$\n",
    "\n",
    "Результат будем искать как $\\hat{R}$:\n",
    " $$P = U\\sqrt{\\Sigma}$$\n",
    "$$Q = \\sqrt{\\Sigma}V^\\top$$\n",
    "$$\\hat{R} = P^\\top Q$$"
   ]
  },
  {
   "cell_type": "code",
   "execution_count": 119,
   "metadata": {
    "slideshow": {
     "slide_type": "subslide"
    }
   },
   "outputs": [],
   "source": [
    "matr = train_table.fillna(0).values\n",
    "\n",
    "u, s, vt = svds(matr, k=10)\n",
    "s = np.diag(s)\n",
    "\n",
    "p = u.dot(s ** 0.5)\n",
    "q = (s ** 0.5).dot(vt)\n",
    "\n",
    "R = p.dot(q)"
   ]
  },
  {
   "cell_type": "code",
   "execution_count": 124,
   "metadata": {
    "slideshow": {
     "slide_type": "subslide"
    }
   },
   "outputs": [
    {
     "name": "stdout",
     "output_type": "stream",
     "text": [
      "9.536224899712506\n"
     ]
    }
   ],
   "source": [
    "pred = np.zeros(len(test))\n",
    "\n",
    "for i in range(len(pred)):\n",
    "    uid, sid, _ = list(test.values[i, :])\n",
    "\n",
    "    ind1 = (train_table.index.values == uid)\n",
    "    ind2 = (train_table.columns.values == sid)\n",
    "    \n",
    "    if len(ind1[ind1 == True]) == 0 or \\\n",
    "        len(ind2[ind2 == True]) == 0:\n",
    "        pred[i] = 0\n",
    "        continue\n",
    "    \n",
    "    pred[i] = R[ind1, ind2]\n",
    "    \n",
    "print(mean_squared_error(test.values[:, 2], pred))"
   ]
  },
  {
   "cell_type": "markdown",
   "metadata": {
    "slideshow": {
     "slide_type": "slide"
    }
   },
   "source": [
    "### Latent Factor Model\n",
    "\n",
    "* Будем оптимизировать следующий функционал\n",
    "$$ \\sum\\limits_{u,i}(R_{ui} - \\bar{R}_u - \\bar{R}_i - \\langle p_u, q_i \\rangle)^2 + \\lambda \\sum_u\\| p_u \\|^2 + \\mu\\sum_i\\| q_i \\|^2 \\rightarrow \\min\\limits_{P, Q} $$\n",
    "* С помощью градиентного спуска (на каждом шаге случайно выбирая пару $(u,i)$:\n",
    "$$ p_{uk} = p_{uk} + 2\\alpha \\left(q_{ik}(R_{ui} - \\bar{R}_u - \\bar{R}_i - \\langle p_u, q_i \\rangle) - \\lambda p_{uk}\\right)$$\n",
    "$$ q_{ik} = q_{ik} + 2\\alpha \\left(p_{uk}(R_{ui} - \\bar{R}_u - \\bar{R}_i - \\langle p_u, q_i \\rangle) - \\mu q_{ik}\\right)$$"
   ]
  },
  {
   "cell_type": "code",
   "execution_count": 255,
   "metadata": {
    "slideshow": {
     "slide_type": "subslide"
    }
   },
   "outputs": [],
   "source": [
    "matr = train_table.fillna(0).values\n",
    "num_users, num_items = matr.shape\n",
    "k = 30 # количество скрытых факторов\n",
    "alpha = 0.1\n",
    "beta = 0.01\n",
    "iterations = 6\n",
    "num_samples = 5000\n",
    "\n",
    "P = np.random.normal(scale=1./k, size=(num_users, k))\n",
    "Q = np.random.normal(scale=1./k, size=(num_items, k))\n",
    "\n",
    "b_u = np.zeros(num_users)\n",
    "b_i = np.zeros(num_items)\n",
    "b = matr[matr != 0].mean()\n",
    "\n",
    "samples = [\n",
    "    (i, j, matr[i, j]) for i in range(num_users) for j in range(num_items) \\\n",
    "        if matr[i, j] > 0\n",
    "]\n",
    "\n",
    "for i in range(iterations):\n",
    "    np.random.shuffle(samples)\n",
    "    \n",
    "    for i, j, r in samples[:num_samples]:\n",
    "        cur_pred = b + b_u[i] + b_i[j] + P[i, :].dot(Q[j, :].T)\n",
    "        error = (r - cur_pred)\n",
    "        \n",
    "        b_u[i] += alpha * (error - beta * b_u[i])\n",
    "        b_i[j] += alpha * (error - beta * b_i[j])\n",
    "        \n",
    "        P[i, :] += alpha * (error * Q[j, :] - beta * P[i, :])\n",
    "        Q[j, :] += alpha * (error * P[i, :] - beta * Q[j, :])"
   ]
  },
  {
   "cell_type": "code",
   "execution_count": 256,
   "metadata": {
    "slideshow": {
     "slide_type": "subslide"
    }
   },
   "outputs": [
    {
     "name": "stdout",
     "output_type": "stream",
     "text": [
      "1.3073876324248408\n"
     ]
    }
   ],
   "source": [
    "pred = np.zeros(len(test))\n",
    "\n",
    "for i in range(len(pred)):\n",
    "    uid, sid, _ = list(test.values[i, :])\n",
    "\n",
    "    ind1 = (train_table.index.values == uid)\n",
    "    ind2 = (train_table.columns.values == sid)\n",
    "    \n",
    "    if len(ind1[ind1 == True]) == 0 or \\\n",
    "        len(ind2[ind2 == True]) == 0:\n",
    "        pred[i] = 0\n",
    "        continue\n",
    "    \n",
    "    pred[i] = b + b_u[ind1] + b_i[ind2] + P[ind1, :].dot(Q[ind2, :].T)\n",
    "    \n",
    "print(mean_squared_error(test.values[:, 2], pred))"
   ]
  },
  {
   "cell_type": "markdown",
   "metadata": {
    "slideshow": {
     "slide_type": "slide"
    }
   },
   "source": [
    "Таким образом, лучший результат показала модель Latent Factor.\n",
    "\n",
    "Попробуем рекомендовать с помощью неё сериалы какому либо пользователю и посмотрим результаты."
   ]
  },
  {
   "cell_type": "code",
   "execution_count": 280,
   "metadata": {
    "slideshow": {
     "slide_type": "subslide"
    }
   },
   "outputs": [],
   "source": [
    "df_shows = pd.read_csv('./serials.csv')"
   ]
  },
  {
   "cell_type": "code",
   "execution_count": 292,
   "metadata": {
    "slideshow": {
     "slide_type": "subslide"
    }
   },
   "outputs": [
    {
     "data": {
      "text/html": [
       "<div>\n",
       "<style scoped>\n",
       "    .dataframe tbody tr th:only-of-type {\n",
       "        vertical-align: middle;\n",
       "    }\n",
       "\n",
       "    .dataframe tbody tr th {\n",
       "        vertical-align: top;\n",
       "    }\n",
       "\n",
       "    .dataframe thead th {\n",
       "        text-align: right;\n",
       "    }\n",
       "</style>\n",
       "<table border=\"1\" class=\"dataframe\">\n",
       "  <thead>\n",
       "    <tr style=\"text-align: right;\">\n",
       "      <th></th>\n",
       "      <th>Name</th>\n",
       "      <th>Rating</th>\n",
       "      <th>Viewers</th>\n",
       "      <th>Viewers %</th>\n",
       "      <th>Seasons</th>\n",
       "      <th>Date</th>\n",
       "    </tr>\n",
       "    <tr>\n",
       "      <th>ID</th>\n",
       "      <th></th>\n",
       "      <th></th>\n",
       "      <th></th>\n",
       "      <th></th>\n",
       "      <th></th>\n",
       "      <th></th>\n",
       "    </tr>\n",
       "  </thead>\n",
       "  <tbody>\n",
       "    <tr>\n",
       "      <th>32756</th>\n",
       "      <td>0032</td>\n",
       "      <td>4</td>\n",
       "      <td>26.0</td>\n",
       "      <td>NaN</td>\n",
       "      <td>1.0</td>\n",
       "      <td>2007.0</td>\n",
       "    </tr>\n",
       "    <tr>\n",
       "      <th>25039</th>\n",
       "      <td>009-1</td>\n",
       "      <td>3</td>\n",
       "      <td>45.0</td>\n",
       "      <td>0.01</td>\n",
       "      <td>1.0</td>\n",
       "      <td>2006.0</td>\n",
       "    </tr>\n",
       "    <tr>\n",
       "      <th>1340</th>\n",
       "      <td>Седьмой дух</td>\n",
       "      <td>4</td>\n",
       "      <td>2704.0</td>\n",
       "      <td>0.48</td>\n",
       "      <td>1.0</td>\n",
       "      <td>2009.0</td>\n",
       "    </tr>\n",
       "    <tr>\n",
       "      <th>29125</th>\n",
       "      <td>07 zgłoś się</td>\n",
       "      <td>3</td>\n",
       "      <td>9.0</td>\n",
       "      <td>NaN</td>\n",
       "      <td>5.0</td>\n",
       "      <td>1976.0</td>\n",
       "    </tr>\n",
       "    <tr>\n",
       "      <th>2660</th>\n",
       "      <td>08th MS Team</td>\n",
       "      <td>4</td>\n",
       "      <td>61.0</td>\n",
       "      <td>0.01</td>\n",
       "      <td>1.0</td>\n",
       "      <td>2001.0</td>\n",
       "    </tr>\n",
       "  </tbody>\n",
       "</table>\n",
       "</div>"
      ],
      "text/plain": [
       "               Name  Rating  Viewers  Viewers %  Seasons    Date\n",
       "ID                                                              \n",
       "32756          0032       4     26.0        NaN      1.0  2007.0\n",
       "25039         009-1       3     45.0       0.01      1.0  2006.0\n",
       "1340    Седьмой дух       4   2704.0       0.48      1.0  2009.0\n",
       "29125  07 zgłoś się       3      9.0        NaN      5.0  1976.0\n",
       "2660   08th MS Team       4     61.0       0.01      1.0  2001.0"
      ]
     },
     "execution_count": 292,
     "metadata": {},
     "output_type": "execute_result"
    }
   ],
   "source": [
    "df_shows.index = df_shows.ID\n",
    "df_shows.drop(columns=['ID'], inplace=True)\n",
    "df_shows.head()"
   ]
  },
  {
   "cell_type": "code",
   "execution_count": 293,
   "metadata": {
    "slideshow": {
     "slide_type": "subslide"
    }
   },
   "outputs": [],
   "source": [
    "user_id = 1\n",
    "\n",
    "user_ratings = df_ratings[df_ratings.user_id == user_id]"
   ]
  },
  {
   "cell_type": "code",
   "execution_count": 298,
   "metadata": {
    "slideshow": {
     "slide_type": "subslide"
    }
   },
   "outputs": [],
   "source": [
    "ind = np.argpartition(user_ratings.values[:, 2], 10)[:10]\n",
    "top_show_ind = user_ratings.values[ind, 1]"
   ]
  },
  {
   "cell_type": "code",
   "execution_count": 299,
   "metadata": {
    "slideshow": {
     "slide_type": "subslide"
    }
   },
   "outputs": [
    {
     "data": {
      "text/plain": [
       "array([17448, 20391,   552,   217,  1236, 25193, 23062,   558, 43191,\n",
       "       44546])"
      ]
     },
     "execution_count": 299,
     "metadata": {},
     "output_type": "execute_result"
    }
   ],
   "source": [
    "top_show_ind"
   ]
  },
  {
   "cell_type": "code",
   "execution_count": 300,
   "metadata": {
    "slideshow": {
     "slide_type": "subslide"
    }
   },
   "outputs": [
    {
     "data": {
      "text/plain": [
       "ID\n",
       "17448                    Лангольеры\n",
       "20391                      Призраки\n",
       "552      Мастера научной фантастики\n",
       "217               Воплощение страха\n",
       "1236                   Святой дозор\n",
       "25193                         Культ\n",
       "23062                   Брайт Фоллс\n",
       "558                 Вирус Андромеда\n",
       "43191                 Конец детства\n",
       "44546                          Мгла\n",
       "Name: Name, dtype: object"
      ]
     },
     "execution_count": 300,
     "metadata": {},
     "output_type": "execute_result"
    }
   ],
   "source": [
    "df_shows.loc[top_show_ind].Name"
   ]
  },
  {
   "cell_type": "code",
   "execution_count": 303,
   "metadata": {
    "slideshow": {
     "slide_type": "subslide"
    }
   },
   "outputs": [],
   "source": [
    "pred = np.zeros(len(train_table.columns.values))\n",
    "\n",
    "for i, show_id in enumerate(list(train_table.columns.values)):\n",
    "    ind1 = (train_table.index.values == user_id)\n",
    "    ind2 = (train_table.columns.values == show_id)\n",
    "    \n",
    "    if len(ind1[ind1 == True]) == 0 or \\\n",
    "        len(ind2[ind2 == True]) == 0:\n",
    "        pred[i] = 0\n",
    "        continue\n",
    "    \n",
    "    pred[i] = b + b_u[ind1] + b_i[ind2] + P[ind1, :].dot(Q[ind2, :].T)"
   ]
  },
  {
   "cell_type": "code",
   "execution_count": 307,
   "metadata": {
    "slideshow": {
     "slide_type": "subslide"
    }
   },
   "outputs": [],
   "source": [
    "ind = np.argpartition(pred, 15)[:15]"
   ]
  },
  {
   "cell_type": "code",
   "execution_count": 309,
   "metadata": {
    "slideshow": {
     "slide_type": "subslide"
    }
   },
   "outputs": [],
   "source": [
    "top_show_ind = train_table.columns.values[ind]"
   ]
  },
  {
   "cell_type": "code",
   "execution_count": 310,
   "metadata": {
    "slideshow": {
     "slide_type": "subslide"
    }
   },
   "outputs": [
    {
     "data": {
      "text/plain": [
       "ID\n",
       "55427                                  Грёзы\n",
       "33972                           За пределами\n",
       "51591                              Сверхлюди\n",
       "37832                               Делириум\n",
       "43118                           Слепое пятно\n",
       "217                        Воплощение страха\n",
       "32031                          Люди будущего\n",
       "36409                     Герои: Возрождение\n",
       "57031                                  Дождь\n",
       "6208                                    Плащ\n",
       "56872                           Зачарованные\n",
       "44548    Мыслить как преступник: За границей\n",
       "29963                            Под куполом\n",
       "24474                              Революция\n",
       "55120                                  Порох\n",
       "Name: Name, dtype: object"
      ]
     },
     "execution_count": 310,
     "metadata": {},
     "output_type": "execute_result"
    }
   ],
   "source": [
    "df_shows.loc[top_show_ind].Name"
   ]
  }
 ],
 "metadata": {
  "celltoolbar": "Slideshow",
  "kernelspec": {
   "display_name": "Python 3",
   "language": "python",
   "name": "python3"
  },
  "language_info": {
   "codemirror_mode": {
    "name": "ipython",
    "version": 3
   },
   "file_extension": ".py",
   "mimetype": "text/x-python",
   "name": "python",
   "nbconvert_exporter": "python",
   "pygments_lexer": "ipython3",
   "version": "3.6.5"
  }
 },
 "nbformat": 4,
 "nbformat_minor": 2
}
