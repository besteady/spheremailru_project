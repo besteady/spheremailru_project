{
 "cells": [
  {
   "cell_type": "code",
   "execution_count": 1,
   "metadata": {},
   "outputs": [],
   "source": [
    "from bs4 import BeautifulSoup\n",
    "import random\n",
    "import html\n",
    "import requests\n",
    "import re\n",
    "from time import sleep\n",
    "from urllib.parse import quote\n",
    "import pandas as pd\n",
    "from concurrent.futures import ProcessPoolExecutor"
   ]
  },
  {
   "cell_type": "code",
   "execution_count": 13,
   "metadata": {},
   "outputs": [],
   "source": [
    "site = 'https://myshows.me/community/users/?page={}'\n",
    "max_num_page = 5000"
   ]
  },
  {
   "cell_type": "code",
   "execution_count": 14,
   "metadata": {},
   "outputs": [],
   "source": [
    "def random_sleep(offset=1.5, length=4):\n",
    "    sleep(random.random() * length + offset)\n",
    "    \n",
    "def extract_users_from_page(site_num):\n",
    "    soup = BeautifulSoup(requests.get(site.format(site_num)).text, 'html.parser')\n",
    "    res = []\n",
    "    \n",
    "    links = soup.find_all('a', class_='userBlock linkBlock')\n",
    "    for link in links:\n",
    "        res.append(link.attrs['href'])\n",
    "    \n",
    "    return res\n",
    "\n",
    "def extract_grades_from_user_page(user_url):\n",
    "    soup = BeautifulSoup(requests.get(user_url).text, 'html.parser')\n",
    "    res = {}\n",
    "    \n",
    "    tabs = soup.find_all('div', class_='tabs_cont')\n",
    "    for i in [0, 1, ]\n",
    "    completed_tab = tabs[-1]\n",
    "    all_grades = completed_tab.find_all('tr')\n",
    "    for grade in all_grades[:-1]:\n",
    "        grade_parts = grade.find_all('td')\n",
    "        title = grade_parts[0].find('a').text\n",
    "        grade_value = grade_parts[1].find('span').attrs['class'][1][1]\n",
    "        res[title] = grade_value\n",
    "    \n",
    "    return res"
   ]
  },
  {
   "cell_type": "code",
   "execution_count": 15,
   "metadata": {},
   "outputs": [
    {
     "name": "stdout",
     "output_type": "stream",
     "text": [
      "CPU times: user 6.7 s, sys: 1.15 s, total: 7.85 s\n",
      "Wall time: 22min 40s\n"
     ]
    }
   ],
   "source": [
    "%%time\n",
    "\n",
    "\n",
    "with ProcessPoolExecutor(max_workers=5) as executor:\n",
    "    result = list(executor.map(extract_users_from_page,\n",
    "                               list(range(max_num_page))))\n",
    "    \n",
    "unpack_result = []\n",
    "for l in result:\n",
    "    unpack_result += l\n",
    "\n",
    "with open('user_urls.txt', 'w') as fin:\n",
    "    for row in unpack_result:\n",
    "        fin.write(row + '\\n')"
   ]
  },
  {
   "cell_type": "code",
   "execution_count": 18,
   "metadata": {},
   "outputs": [
    {
     "name": "stdout",
     "output_type": "stream",
     "text": [
      "149981 150000\n"
     ]
    }
   ],
   "source": [
    "print(len(set(unpack_result)), len(unpack_result))\n",
    "user_urls = list(set(unpack_result))"
   ]
  },
  {
   "cell_type": "code",
   "execution_count": 17,
   "metadata": {},
   "outputs": [
    {
     "data": {
      "text/plain": [
       "{'Время приключений': '5',\n",
       " 'Блудливая Калифорния': '5',\n",
       " 'Декстер': '5',\n",
       " 'Друзья': '5',\n",
       " 'Гравити Фолз': '5',\n",
       " 'Доктор Хаус': '5',\n",
       " 'Как я встретил вашу маму': '5',\n",
       " 'Остаться в живых': '5',\n",
       " 'Марко Поло': '5',\n",
       " 'Защитники': '5',\n",
       " 'Клиника': '5',\n",
       " 'Человек-Паук': '5',\n",
       " 'Дневники вампира': '5',\n",
       " 'Секретные материалы': '5',\n",
       " 'Черные паруса': '4',\n",
       " 'Во все тяжкие': '4',\n",
       " 'Константин': '4',\n",
       " 'Вспомни, что будет': '4',\n",
       " 'Вечность': '4',\n",
       " 'Футурама': '4',\n",
       " 'Гримм': '4',\n",
       " 'Ганнибал': '4',\n",
       " 'Обмани меня': '4',\n",
       " 'Области тьмы': '4',\n",
       " 'Агент Картер': '4',\n",
       " 'Железный кулак': '4',\n",
       " 'Люк Кейдж': '4',\n",
       " 'Отбросы': '4',\n",
       " 'Восьмое чувство': '4',\n",
       " 'Волчонок': '4',\n",
       " 'Древние': '4',\n",
       " 'Кровавая гонка\\t': '3',\n",
       " 'Герои': '3',\n",
       " 'Сонная Лощина': '3',\n",
       " 'Офис': '3',\n",
       " 'Под куполом': '3',\n",
       " 'Сверхлюди': '2'}"
      ]
     },
     "execution_count": 17,
     "metadata": {},
     "output_type": "execute_result"
    }
   ],
   "source": [
    "extract_grades_from_user_page('https://myshows.me/Vlad_Sherbi')"
   ]
  },
  {
   "cell_type": "code",
   "execution_count": null,
   "metadata": {},
   "outputs": [],
   "source": []
  }
 ],
 "metadata": {
  "kernelspec": {
   "display_name": "Python 3",
   "language": "python",
   "name": "python3"
  },
  "language_info": {
   "codemirror_mode": {
    "name": "ipython",
    "version": 3
   },
   "file_extension": ".py",
   "mimetype": "text/x-python",
   "name": "python",
   "nbconvert_exporter": "python",
   "pygments_lexer": "ipython3",
   "version": "3.7.0"
  }
 },
 "nbformat": 4,
 "nbformat_minor": 2
}
